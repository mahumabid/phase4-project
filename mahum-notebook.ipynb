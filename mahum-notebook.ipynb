{
 "cells": [
  {
   "cell_type": "code",
   "execution_count": 4,
   "metadata": {},
   "outputs": [],
   "source": [
    "# Import all necessary packages\n",
    "import pandas as pd\n",
    "import matplotlib.pyplot as plt\n",
    "import seaborn as sns\n",
    "import surprise\n",
    "from surprise.prediction_algorithms import *\n",
    "from surprise import Dataset, Reader\n",
    "from surprise.model_selection import train_test_split\n",
    "import numpy as np\n",
    "import datetime as dt"
   ]
  },
  {
   "cell_type": "code",
   "execution_count": 5,
   "metadata": {},
   "outputs": [
    {
     "data": {
      "text/html": [
       "<div>\n",
       "<style scoped>\n",
       "    .dataframe tbody tr th:only-of-type {\n",
       "        vertical-align: middle;\n",
       "    }\n",
       "\n",
       "    .dataframe tbody tr th {\n",
       "        vertical-align: top;\n",
       "    }\n",
       "\n",
       "    .dataframe thead th {\n",
       "        text-align: right;\n",
       "    }\n",
       "</style>\n",
       "<table border=\"1\" class=\"dataframe\">\n",
       "  <thead>\n",
       "    <tr style=\"text-align: right;\">\n",
       "      <th></th>\n",
       "      <th>movieId</th>\n",
       "      <th>imdbId</th>\n",
       "      <th>tmdbId</th>\n",
       "    </tr>\n",
       "  </thead>\n",
       "  <tbody>\n",
       "    <tr>\n",
       "      <th>0</th>\n",
       "      <td>1</td>\n",
       "      <td>114709</td>\n",
       "      <td>862.0</td>\n",
       "    </tr>\n",
       "    <tr>\n",
       "      <th>1</th>\n",
       "      <td>2</td>\n",
       "      <td>113497</td>\n",
       "      <td>8844.0</td>\n",
       "    </tr>\n",
       "    <tr>\n",
       "      <th>2</th>\n",
       "      <td>3</td>\n",
       "      <td>113228</td>\n",
       "      <td>15602.0</td>\n",
       "    </tr>\n",
       "    <tr>\n",
       "      <th>3</th>\n",
       "      <td>4</td>\n",
       "      <td>114885</td>\n",
       "      <td>31357.0</td>\n",
       "    </tr>\n",
       "    <tr>\n",
       "      <th>4</th>\n",
       "      <td>5</td>\n",
       "      <td>113041</td>\n",
       "      <td>11862.0</td>\n",
       "    </tr>\n",
       "  </tbody>\n",
       "</table>\n",
       "</div>"
      ],
      "text/plain": [
       "   movieId  imdbId   tmdbId\n",
       "0        1  114709    862.0\n",
       "1        2  113497   8844.0\n",
       "2        3  113228  15602.0\n",
       "3        4  114885  31357.0\n",
       "4        5  113041  11862.0"
      ]
     },
     "execution_count": 5,
     "metadata": {},
     "output_type": "execute_result"
    }
   ],
   "source": [
    "# Read in the 'links.csv'.\n",
    "df_links = pd.read_csv(\"Data/links.csv\")\n",
    "df_links.head()"
   ]
  },
  {
   "cell_type": "code",
   "execution_count": 6,
   "metadata": {},
   "outputs": [
    {
     "name": "stdout",
     "output_type": "stream",
     "text": [
      "<class 'pandas.core.frame.DataFrame'>\n",
      "RangeIndex: 9742 entries, 0 to 9741\n",
      "Data columns (total 3 columns):\n",
      " #   Column   Non-Null Count  Dtype  \n",
      "---  ------   --------------  -----  \n",
      " 0   movieId  9742 non-null   int64  \n",
      " 1   imdbId   9742 non-null   int64  \n",
      " 2   tmdbId   9734 non-null   float64\n",
      "dtypes: float64(1), int64(2)\n",
      "memory usage: 228.5 KB\n"
     ]
    }
   ],
   "source": [
    "# Checking the data.\n",
    "df_links.info()"
   ]
  },
  {
   "cell_type": "code",
   "execution_count": 7,
   "metadata": {},
   "outputs": [
    {
     "data": {
      "text/plain": [
       "0"
      ]
     },
     "execution_count": 7,
     "metadata": {},
     "output_type": "execute_result"
    }
   ],
   "source": [
    "# Checking the movie ID column for duplicates.\n",
    "df_links['movieId'].duplicated().sum()"
   ]
  },
  {
   "cell_type": "markdown",
   "metadata": {},
   "source": [
    "# Movies.csv"
   ]
  },
  {
   "cell_type": "code",
   "execution_count": 8,
   "metadata": {},
   "outputs": [
    {
     "data": {
      "text/html": [
       "<div>\n",
       "<style scoped>\n",
       "    .dataframe tbody tr th:only-of-type {\n",
       "        vertical-align: middle;\n",
       "    }\n",
       "\n",
       "    .dataframe tbody tr th {\n",
       "        vertical-align: top;\n",
       "    }\n",
       "\n",
       "    .dataframe thead th {\n",
       "        text-align: right;\n",
       "    }\n",
       "</style>\n",
       "<table border=\"1\" class=\"dataframe\">\n",
       "  <thead>\n",
       "    <tr style=\"text-align: right;\">\n",
       "      <th></th>\n",
       "      <th>movieId</th>\n",
       "      <th>title</th>\n",
       "      <th>genres</th>\n",
       "    </tr>\n",
       "  </thead>\n",
       "  <tbody>\n",
       "    <tr>\n",
       "      <th>0</th>\n",
       "      <td>1</td>\n",
       "      <td>Toy Story (1995)</td>\n",
       "      <td>Adventure|Animation|Children|Comedy|Fantasy</td>\n",
       "    </tr>\n",
       "    <tr>\n",
       "      <th>1</th>\n",
       "      <td>2</td>\n",
       "      <td>Jumanji (1995)</td>\n",
       "      <td>Adventure|Children|Fantasy</td>\n",
       "    </tr>\n",
       "    <tr>\n",
       "      <th>2</th>\n",
       "      <td>3</td>\n",
       "      <td>Grumpier Old Men (1995)</td>\n",
       "      <td>Comedy|Romance</td>\n",
       "    </tr>\n",
       "    <tr>\n",
       "      <th>3</th>\n",
       "      <td>4</td>\n",
       "      <td>Waiting to Exhale (1995)</td>\n",
       "      <td>Comedy|Drama|Romance</td>\n",
       "    </tr>\n",
       "    <tr>\n",
       "      <th>4</th>\n",
       "      <td>5</td>\n",
       "      <td>Father of the Bride Part II (1995)</td>\n",
       "      <td>Comedy</td>\n",
       "    </tr>\n",
       "  </tbody>\n",
       "</table>\n",
       "</div>"
      ],
      "text/plain": [
       "   movieId                               title  \\\n",
       "0        1                    Toy Story (1995)   \n",
       "1        2                      Jumanji (1995)   \n",
       "2        3             Grumpier Old Men (1995)   \n",
       "3        4            Waiting to Exhale (1995)   \n",
       "4        5  Father of the Bride Part II (1995)   \n",
       "\n",
       "                                        genres  \n",
       "0  Adventure|Animation|Children|Comedy|Fantasy  \n",
       "1                   Adventure|Children|Fantasy  \n",
       "2                               Comedy|Romance  \n",
       "3                         Comedy|Drama|Romance  \n",
       "4                                       Comedy  "
      ]
     },
     "execution_count": 8,
     "metadata": {},
     "output_type": "execute_result"
    }
   ],
   "source": [
    "# Read in the 'movies.csv'.\n",
    "df_movies = pd.read_csv(\"Data/movies.csv\")\n",
    "df_movies.head()"
   ]
  },
  {
   "cell_type": "code",
   "execution_count": 9,
   "metadata": {},
   "outputs": [
    {
     "name": "stdout",
     "output_type": "stream",
     "text": [
      "<class 'pandas.core.frame.DataFrame'>\n",
      "RangeIndex: 9742 entries, 0 to 9741\n",
      "Data columns (total 3 columns):\n",
      " #   Column   Non-Null Count  Dtype \n",
      "---  ------   --------------  ----- \n",
      " 0   movieId  9742 non-null   int64 \n",
      " 1   title    9742 non-null   object\n",
      " 2   genres   9742 non-null   object\n",
      "dtypes: int64(1), object(2)\n",
      "memory usage: 228.5+ KB\n"
     ]
    }
   ],
   "source": [
    "# Checking the data.\n",
    "df_movies.info()"
   ]
  },
  {
   "cell_type": "code",
   "execution_count": 10,
   "metadata": {},
   "outputs": [
    {
     "data": {
      "text/plain": [
       "0"
      ]
     },
     "execution_count": 10,
     "metadata": {},
     "output_type": "execute_result"
    }
   ],
   "source": [
    "# Checking the movie ID column for duplicates.\n",
    "df_movies['movieId'].duplicated().sum()"
   ]
  },
  {
   "cell_type": "markdown",
   "metadata": {},
   "source": [
    "# Rating.csv"
   ]
  },
  {
   "cell_type": "code",
   "execution_count": 11,
   "metadata": {},
   "outputs": [
    {
     "data": {
      "text/html": [
       "<div>\n",
       "<style scoped>\n",
       "    .dataframe tbody tr th:only-of-type {\n",
       "        vertical-align: middle;\n",
       "    }\n",
       "\n",
       "    .dataframe tbody tr th {\n",
       "        vertical-align: top;\n",
       "    }\n",
       "\n",
       "    .dataframe thead th {\n",
       "        text-align: right;\n",
       "    }\n",
       "</style>\n",
       "<table border=\"1\" class=\"dataframe\">\n",
       "  <thead>\n",
       "    <tr style=\"text-align: right;\">\n",
       "      <th></th>\n",
       "      <th>userId</th>\n",
       "      <th>movieId</th>\n",
       "      <th>rating</th>\n",
       "      <th>timestamp</th>\n",
       "    </tr>\n",
       "  </thead>\n",
       "  <tbody>\n",
       "    <tr>\n",
       "      <th>0</th>\n",
       "      <td>1</td>\n",
       "      <td>1</td>\n",
       "      <td>4.0</td>\n",
       "      <td>964982703</td>\n",
       "    </tr>\n",
       "    <tr>\n",
       "      <th>1</th>\n",
       "      <td>1</td>\n",
       "      <td>3</td>\n",
       "      <td>4.0</td>\n",
       "      <td>964981247</td>\n",
       "    </tr>\n",
       "    <tr>\n",
       "      <th>2</th>\n",
       "      <td>1</td>\n",
       "      <td>6</td>\n",
       "      <td>4.0</td>\n",
       "      <td>964982224</td>\n",
       "    </tr>\n",
       "    <tr>\n",
       "      <th>3</th>\n",
       "      <td>1</td>\n",
       "      <td>47</td>\n",
       "      <td>5.0</td>\n",
       "      <td>964983815</td>\n",
       "    </tr>\n",
       "    <tr>\n",
       "      <th>4</th>\n",
       "      <td>1</td>\n",
       "      <td>50</td>\n",
       "      <td>5.0</td>\n",
       "      <td>964982931</td>\n",
       "    </tr>\n",
       "  </tbody>\n",
       "</table>\n",
       "</div>"
      ],
      "text/plain": [
       "   userId  movieId  rating  timestamp\n",
       "0       1        1     4.0  964982703\n",
       "1       1        3     4.0  964981247\n",
       "2       1        6     4.0  964982224\n",
       "3       1       47     5.0  964983815\n",
       "4       1       50     5.0  964982931"
      ]
     },
     "execution_count": 11,
     "metadata": {},
     "output_type": "execute_result"
    }
   ],
   "source": [
    "# Read in the 'ratings.csv'.\n",
    "df_ratings = pd.read_csv(\"Data/ratings.csv\")\n",
    "df_ratings.head()"
   ]
  },
  {
   "cell_type": "code",
   "execution_count": 12,
   "metadata": {},
   "outputs": [
    {
     "name": "stdout",
     "output_type": "stream",
     "text": [
      "<class 'pandas.core.frame.DataFrame'>\n",
      "RangeIndex: 100836 entries, 0 to 100835\n",
      "Data columns (total 4 columns):\n",
      " #   Column     Non-Null Count   Dtype  \n",
      "---  ------     --------------   -----  \n",
      " 0   userId     100836 non-null  int64  \n",
      " 1   movieId    100836 non-null  int64  \n",
      " 2   rating     100836 non-null  float64\n",
      " 3   timestamp  100836 non-null  int64  \n",
      "dtypes: float64(1), int64(3)\n",
      "memory usage: 3.1 MB\n"
     ]
    }
   ],
   "source": [
    "# Checking the data\n",
    "df_ratings.info()"
   ]
  },
  {
   "cell_type": "code",
   "execution_count": 13,
   "metadata": {},
   "outputs": [
    {
     "data": {
      "text/plain": [
       "91112"
      ]
     },
     "execution_count": 13,
     "metadata": {},
     "output_type": "execute_result"
    }
   ],
   "source": [
    "# Checking the movie ID column for duplicates.\n",
    "df_ratings['movieId'].duplicated().sum()"
   ]
  },
  {
   "cell_type": "code",
   "execution_count": 14,
   "metadata": {},
   "outputs": [
    {
     "data": {
      "text/plain": [
       "0           1\n",
       "1           1\n",
       "2           1\n",
       "3           1\n",
       "4           1\n",
       "         ... \n",
       "100831    610\n",
       "100832    610\n",
       "100833    610\n",
       "100834    610\n",
       "100835    610\n",
       "Name: userId, Length: 100836, dtype: int64"
      ]
     },
     "execution_count": 14,
     "metadata": {},
     "output_type": "execute_result"
    }
   ],
   "source": [
    "# Checking the number of user ID's\n",
    "df_ratings['userId']"
   ]
  },
  {
   "cell_type": "code",
   "execution_count": 15,
   "metadata": {},
   "outputs": [
    {
     "name": "stdout",
     "output_type": "stream",
     "text": [
      "610\n"
     ]
    }
   ],
   "source": [
    "# Double checking user ID's by counting the amount of users.\n",
    "print(len(df_ratings['userId'].value_counts() > 1))"
   ]
  },
  {
   "cell_type": "code",
   "execution_count": 16,
   "metadata": {},
   "outputs": [
    {
     "name": "stdout",
     "output_type": "stream",
     "text": [
      "4.0    26818\n",
      "3.0    20047\n",
      "5.0    13211\n",
      "3.5    13136\n",
      "4.5     8551\n",
      "2.0     7551\n",
      "2.5     5550\n",
      "1.0     2811\n",
      "1.5     1791\n",
      "0.5     1370\n",
      "Name: rating, dtype: int64\n"
     ]
    }
   ],
   "source": [
    "# Looking at the denomination breakdown of ratings.\n",
    "print((df_ratings['rating'].value_counts()))"
   ]
  },
  {
   "cell_type": "markdown",
   "metadata": {},
   "source": [
    "# Tags.csv"
   ]
  },
  {
   "cell_type": "code",
   "execution_count": 17,
   "metadata": {},
   "outputs": [
    {
     "data": {
      "text/html": [
       "<div>\n",
       "<style scoped>\n",
       "    .dataframe tbody tr th:only-of-type {\n",
       "        vertical-align: middle;\n",
       "    }\n",
       "\n",
       "    .dataframe tbody tr th {\n",
       "        vertical-align: top;\n",
       "    }\n",
       "\n",
       "    .dataframe thead th {\n",
       "        text-align: right;\n",
       "    }\n",
       "</style>\n",
       "<table border=\"1\" class=\"dataframe\">\n",
       "  <thead>\n",
       "    <tr style=\"text-align: right;\">\n",
       "      <th></th>\n",
       "      <th>userId</th>\n",
       "      <th>movieId</th>\n",
       "      <th>tag</th>\n",
       "      <th>timestamp</th>\n",
       "    </tr>\n",
       "  </thead>\n",
       "  <tbody>\n",
       "    <tr>\n",
       "      <th>0</th>\n",
       "      <td>2</td>\n",
       "      <td>60756</td>\n",
       "      <td>funny</td>\n",
       "      <td>1445714994</td>\n",
       "    </tr>\n",
       "    <tr>\n",
       "      <th>1</th>\n",
       "      <td>2</td>\n",
       "      <td>60756</td>\n",
       "      <td>Highly quotable</td>\n",
       "      <td>1445714996</td>\n",
       "    </tr>\n",
       "    <tr>\n",
       "      <th>2</th>\n",
       "      <td>2</td>\n",
       "      <td>60756</td>\n",
       "      <td>will ferrell</td>\n",
       "      <td>1445714992</td>\n",
       "    </tr>\n",
       "    <tr>\n",
       "      <th>3</th>\n",
       "      <td>2</td>\n",
       "      <td>89774</td>\n",
       "      <td>Boxing story</td>\n",
       "      <td>1445715207</td>\n",
       "    </tr>\n",
       "    <tr>\n",
       "      <th>4</th>\n",
       "      <td>2</td>\n",
       "      <td>89774</td>\n",
       "      <td>MMA</td>\n",
       "      <td>1445715200</td>\n",
       "    </tr>\n",
       "  </tbody>\n",
       "</table>\n",
       "</div>"
      ],
      "text/plain": [
       "   userId  movieId              tag   timestamp\n",
       "0       2    60756            funny  1445714994\n",
       "1       2    60756  Highly quotable  1445714996\n",
       "2       2    60756     will ferrell  1445714992\n",
       "3       2    89774     Boxing story  1445715207\n",
       "4       2    89774              MMA  1445715200"
      ]
     },
     "execution_count": 17,
     "metadata": {},
     "output_type": "execute_result"
    }
   ],
   "source": [
    "# Read in 'tags.csv'.\n",
    "df_tags = pd.read_csv(\"Data/tags.csv\")\n",
    "df_tags.head()\n"
   ]
  },
  {
   "cell_type": "code",
   "execution_count": 18,
   "metadata": {},
   "outputs": [
    {
     "name": "stdout",
     "output_type": "stream",
     "text": [
      "<class 'pandas.core.frame.DataFrame'>\n",
      "RangeIndex: 3683 entries, 0 to 3682\n",
      "Data columns (total 4 columns):\n",
      " #   Column     Non-Null Count  Dtype \n",
      "---  ------     --------------  ----- \n",
      " 0   userId     3683 non-null   int64 \n",
      " 1   movieId    3683 non-null   int64 \n",
      " 2   tag        3683 non-null   object\n",
      " 3   timestamp  3683 non-null   int64 \n",
      "dtypes: int64(3), object(1)\n",
      "memory usage: 115.2+ KB\n"
     ]
    }
   ],
   "source": [
    "# Checking the tags data.\n",
    "df_tags.info()"
   ]
  },
  {
   "cell_type": "code",
   "execution_count": 19,
   "metadata": {},
   "outputs": [
    {
     "data": {
      "text/plain": [
       "2111"
      ]
     },
     "execution_count": 19,
     "metadata": {},
     "output_type": "execute_result"
    }
   ],
   "source": [
    "# Checking the movie ID column for duplicates.\n",
    "df_tags['movieId'].duplicated().sum()"
   ]
  },
  {
   "cell_type": "code",
   "execution_count": 20,
   "metadata": {},
   "outputs": [
    {
     "name": "stdout",
     "output_type": "stream",
     "text": [
      "1572\n"
     ]
    }
   ],
   "source": [
    "# Checking how many moveId's have a value count equal to 1.\n",
    "df_tagid = df_tags['movieId']\n",
    "df_tagid = df_tagid.to_frame()\n",
    "print(len(df_tagid['movieId'].value_counts()==1))\n"
   ]
  },
  {
   "cell_type": "code",
   "execution_count": 21,
   "metadata": {},
   "outputs": [
    {
     "name": "stdout",
     "output_type": "stream",
     "text": [
      "58\n"
     ]
    }
   ],
   "source": [
    "# Counting the number of userId's\n",
    "print(len(df_tags['userId'].value_counts() > 1))"
   ]
  },
  {
   "cell_type": "markdown",
   "metadata": {},
   "source": [
    "# Merging Dataframes"
   ]
  },
  {
   "cell_type": "code",
   "execution_count": 22,
   "metadata": {},
   "outputs": [
    {
     "name": "stdout",
     "output_type": "stream",
     "text": [
      "<class 'pandas.core.frame.DataFrame'>\n",
      "Int64Index: 9734 entries, 0 to 9741\n",
      "Data columns (total 5 columns):\n",
      " #   Column   Non-Null Count  Dtype  \n",
      "---  ------   --------------  -----  \n",
      " 0   movieId  9734 non-null   int64  \n",
      " 1   imdbId   9734 non-null   int64  \n",
      " 2   tmdbId   9734 non-null   float64\n",
      " 3   title    9734 non-null   object \n",
      " 4   genres   9734 non-null   object \n",
      "dtypes: float64(1), int64(2), object(2)\n",
      "memory usage: 456.3+ KB\n"
     ]
    }
   ],
   "source": [
    "# Merge 'links' and 'movie' dataframes together and check new dataframe.\n",
    "movies_df = df_links.merge(df_movies, on='movieId')\n",
    "movies_df = movies_df.dropna()\n",
    "movies_df.info()"
   ]
  },
  {
   "cell_type": "code",
   "execution_count": 23,
   "metadata": {},
   "outputs": [
    {
     "data": {
      "text/plain": [
       "0"
      ]
     },
     "execution_count": 23,
     "metadata": {},
     "output_type": "execute_result"
    }
   ],
   "source": [
    "# Check to see if there are any movieId duplicates.\n",
    "movies_df['movieId'].duplicated().sum()"
   ]
  },
  {
   "cell_type": "code",
   "execution_count": 24,
   "metadata": {},
   "outputs": [
    {
     "name": "stdout",
     "output_type": "stream",
     "text": [
      "<class 'pandas.core.frame.DataFrame'>\n",
      "Int64Index: 100823 entries, 0 to 100822\n",
      "Data columns (total 8 columns):\n",
      " #   Column     Non-Null Count   Dtype  \n",
      "---  ------     --------------   -----  \n",
      " 0   movieId    100823 non-null  int64  \n",
      " 1   imdbId     100823 non-null  int64  \n",
      " 2   tmdbId     100823 non-null  float64\n",
      " 3   title      100823 non-null  object \n",
      " 4   genres     100823 non-null  object \n",
      " 5   userId     100823 non-null  int64  \n",
      " 6   rating     100823 non-null  float64\n",
      " 7   timestamp  100823 non-null  int64  \n",
      "dtypes: float64(2), int64(4), object(2)\n",
      "memory usage: 6.9+ MB\n"
     ]
    }
   ],
   "source": [
    "# Merge new dataframe with the 'ratings.csv'\n",
    "movie_df = movies_df.merge(df_ratings, on='movieId')\n",
    "movie_df.info()\n"
   ]
  },
  {
   "cell_type": "code",
   "execution_count": 25,
   "metadata": {},
   "outputs": [
    {
     "data": {
      "text/plain": [
       "91107"
      ]
     },
     "execution_count": 25,
     "metadata": {},
     "output_type": "execute_result"
    }
   ],
   "source": [
    "# Checking to see how many movieIds are duplicated\n",
    "movie_df['movieId'].duplicated().sum()\n"
   ]
  },
  {
   "cell_type": "code",
   "execution_count": 26,
   "metadata": {},
   "outputs": [
    {
     "name": "stdout",
     "output_type": "stream",
     "text": [
      "In this merged dataset we have 9716 individual movie titles.\n"
     ]
    }
   ],
   "source": [
    "print(\"In this merged dataset we have\", len(movie_df['movieId']) - movie_df['movieId'].duplicated().sum(), \"individual movie titles.\")"
   ]
  },
  {
   "cell_type": "code",
   "execution_count": 27,
   "metadata": {},
   "outputs": [
    {
     "data": {
      "text/html": [
       "<div>\n",
       "<style scoped>\n",
       "    .dataframe tbody tr th:only-of-type {\n",
       "        vertical-align: middle;\n",
       "    }\n",
       "\n",
       "    .dataframe tbody tr th {\n",
       "        vertical-align: top;\n",
       "    }\n",
       "\n",
       "    .dataframe thead th {\n",
       "        text-align: right;\n",
       "    }\n",
       "</style>\n",
       "<table border=\"1\" class=\"dataframe\">\n",
       "  <thead>\n",
       "    <tr style=\"text-align: right;\">\n",
       "      <th></th>\n",
       "      <th>movieId</th>\n",
       "      <th>imdbId</th>\n",
       "      <th>tmdbId</th>\n",
       "      <th>userId</th>\n",
       "      <th>rating</th>\n",
       "      <th>timestamp</th>\n",
       "    </tr>\n",
       "  </thead>\n",
       "  <tbody>\n",
       "    <tr>\n",
       "      <th>count</th>\n",
       "      <td>100823.000000</td>\n",
       "      <td>1.008230e+05</td>\n",
       "      <td>100823.000000</td>\n",
       "      <td>100823.000000</td>\n",
       "      <td>100823.000000</td>\n",
       "      <td>1.008230e+05</td>\n",
       "    </tr>\n",
       "    <tr>\n",
       "      <th>mean</th>\n",
       "      <td>19435.437737</td>\n",
       "      <td>3.515704e+05</td>\n",
       "      <td>20105.462633</td>\n",
       "      <td>326.130823</td>\n",
       "      <td>3.501637</td>\n",
       "      <td>1.205945e+09</td>\n",
       "    </tr>\n",
       "    <tr>\n",
       "      <th>std</th>\n",
       "      <td>35532.291269</td>\n",
       "      <td>6.220922e+05</td>\n",
       "      <td>53274.143620</td>\n",
       "      <td>182.618176</td>\n",
       "      <td>1.042430</td>\n",
       "      <td>2.162613e+08</td>\n",
       "    </tr>\n",
       "    <tr>\n",
       "      <th>min</th>\n",
       "      <td>1.000000</td>\n",
       "      <td>4.170000e+02</td>\n",
       "      <td>2.000000</td>\n",
       "      <td>1.000000</td>\n",
       "      <td>0.500000</td>\n",
       "      <td>8.281246e+08</td>\n",
       "    </tr>\n",
       "    <tr>\n",
       "      <th>25%</th>\n",
       "      <td>1199.000000</td>\n",
       "      <td>9.968500e+04</td>\n",
       "      <td>712.000000</td>\n",
       "      <td>177.000000</td>\n",
       "      <td>3.000000</td>\n",
       "      <td>1.019124e+09</td>\n",
       "    </tr>\n",
       "    <tr>\n",
       "      <th>50%</th>\n",
       "      <td>2991.000000</td>\n",
       "      <td>1.187710e+05</td>\n",
       "      <td>6957.000000</td>\n",
       "      <td>325.000000</td>\n",
       "      <td>3.500000</td>\n",
       "      <td>1.186087e+09</td>\n",
       "    </tr>\n",
       "    <tr>\n",
       "      <th>75%</th>\n",
       "      <td>8120.000000</td>\n",
       "      <td>3.149790e+05</td>\n",
       "      <td>11635.000000</td>\n",
       "      <td>477.000000</td>\n",
       "      <td>4.000000</td>\n",
       "      <td>1.435994e+09</td>\n",
       "    </tr>\n",
       "    <tr>\n",
       "      <th>max</th>\n",
       "      <td>193609.000000</td>\n",
       "      <td>8.391976e+06</td>\n",
       "      <td>525662.000000</td>\n",
       "      <td>610.000000</td>\n",
       "      <td>5.000000</td>\n",
       "      <td>1.537799e+09</td>\n",
       "    </tr>\n",
       "  </tbody>\n",
       "</table>\n",
       "</div>"
      ],
      "text/plain": [
       "             movieId        imdbId         tmdbId         userId  \\\n",
       "count  100823.000000  1.008230e+05  100823.000000  100823.000000   \n",
       "mean    19435.437737  3.515704e+05   20105.462633     326.130823   \n",
       "std     35532.291269  6.220922e+05   53274.143620     182.618176   \n",
       "min         1.000000  4.170000e+02       2.000000       1.000000   \n",
       "25%      1199.000000  9.968500e+04     712.000000     177.000000   \n",
       "50%      2991.000000  1.187710e+05    6957.000000     325.000000   \n",
       "75%      8120.000000  3.149790e+05   11635.000000     477.000000   \n",
       "max    193609.000000  8.391976e+06  525662.000000     610.000000   \n",
       "\n",
       "              rating     timestamp  \n",
       "count  100823.000000  1.008230e+05  \n",
       "mean        3.501637  1.205945e+09  \n",
       "std         1.042430  2.162613e+08  \n",
       "min         0.500000  8.281246e+08  \n",
       "25%         3.000000  1.019124e+09  \n",
       "50%         3.500000  1.186087e+09  \n",
       "75%         4.000000  1.435994e+09  \n",
       "max         5.000000  1.537799e+09  "
      ]
     },
     "execution_count": 27,
     "metadata": {},
     "output_type": "execute_result"
    }
   ],
   "source": [
    "movie_df.describe()"
   ]
  },
  {
   "cell_type": "code",
   "execution_count": 28,
   "metadata": {},
   "outputs": [],
   "source": [
    "# We are dropping the 'imdbId' and 'tmdbId' columns because they point to information \n",
    "# we do not have access to.\n",
    "df_cleaned = movie_df.drop(columns= ['imdbId', 'tmdbId'], axis=1)\n"
   ]
  },
  {
   "cell_type": "code",
   "execution_count": 29,
   "metadata": {},
   "outputs": [
    {
     "name": "stdout",
     "output_type": "stream",
     "text": [
      "<class 'pandas.core.frame.DataFrame'>\n",
      "Int64Index: 100823 entries, 0 to 100822\n",
      "Data columns (total 6 columns):\n",
      " #   Column     Non-Null Count   Dtype  \n",
      "---  ------     --------------   -----  \n",
      " 0   movieId    100823 non-null  int64  \n",
      " 1   title      100823 non-null  object \n",
      " 2   genres     100823 non-null  object \n",
      " 3   userId     100823 non-null  int64  \n",
      " 4   rating     100823 non-null  float64\n",
      " 5   timestamp  100823 non-null  int64  \n",
      "dtypes: float64(1), int64(3), object(2)\n",
      "memory usage: 5.4+ MB\n"
     ]
    }
   ],
   "source": [
    "# Checking the new dataframe.\n",
    "df_cleaned.info()\n"
   ]
  },
  {
   "cell_type": "code",
   "execution_count": 30,
   "metadata": {},
   "outputs": [
    {
     "data": {
      "text/plain": [
       "Comedy                                        7194\n",
       "Drama                                         6290\n",
       "Comedy|Romance                                3967\n",
       "Comedy|Drama|Romance                          3000\n",
       "Comedy|Drama                                  2851\n",
       "                                              ... \n",
       "Adventure|Comedy|Fantasy|Musical                 1\n",
       "Comedy|Crime|Drama|Musical|Mystery|Romance       1\n",
       "Action|Comedy|Drama|Horror                       1\n",
       "Crime|Horror|Sci-Fi                              1\n",
       "Fantasy|Horror|Sci-Fi|Western                    1\n",
       "Name: genres, Length: 951, dtype: int64"
      ]
     },
     "execution_count": 30,
     "metadata": {},
     "output_type": "execute_result"
    }
   ],
   "source": [
    "# Checking the value counts for different genre combinations.\n",
    "df_cleaned['genres'].value_counts()\n"
   ]
  },
  {
   "cell_type": "markdown",
   "metadata": {},
   "source": [
    "# Filtering by rating to recommend movie with a rating of 3.0 and above"
   ]
  },
  {
   "cell_type": "code",
   "execution_count": 31,
   "metadata": {},
   "outputs": [
    {
     "name": "stdout",
     "output_type": "stream",
     "text": [
      "<class 'pandas.core.frame.DataFrame'>\n",
      "Int64Index: 81754 entries, 0 to 100822\n",
      "Data columns (total 6 columns):\n",
      " #   Column     Non-Null Count  Dtype  \n",
      "---  ------     --------------  -----  \n",
      " 0   movieId    81754 non-null  int64  \n",
      " 1   title      81754 non-null  object \n",
      " 2   genres     81754 non-null  object \n",
      " 3   userId     81754 non-null  int64  \n",
      " 4   rating     81754 non-null  float64\n",
      " 5   timestamp  81754 non-null  int64  \n",
      "dtypes: float64(1), int64(3), object(2)\n",
      "memory usage: 4.4+ MB\n"
     ]
    }
   ],
   "source": [
    "# df_clean will only contain ratings 3.0 and greater.\n",
    "df_clean = df_cleaned[df_cleaned['rating'] >= 3.0]\n",
    "\n",
    "df_clean.info()"
   ]
  },
  {
   "cell_type": "code",
   "execution_count": 32,
   "metadata": {},
   "outputs": [
    {
     "data": {
      "text/html": [
       "<div>\n",
       "<style scoped>\n",
       "    .dataframe tbody tr th:only-of-type {\n",
       "        vertical-align: middle;\n",
       "    }\n",
       "\n",
       "    .dataframe tbody tr th {\n",
       "        vertical-align: top;\n",
       "    }\n",
       "\n",
       "    .dataframe thead th {\n",
       "        text-align: right;\n",
       "    }\n",
       "</style>\n",
       "<table border=\"1\" class=\"dataframe\">\n",
       "  <thead>\n",
       "    <tr style=\"text-align: right;\">\n",
       "      <th></th>\n",
       "      <th>title</th>\n",
       "      <th>Average Rating</th>\n",
       "    </tr>\n",
       "  </thead>\n",
       "  <tbody>\n",
       "    <tr>\n",
       "      <th>0</th>\n",
       "      <td>American Friend, The (Amerikanische Freund, De...</td>\n",
       "      <td>5.0</td>\n",
       "    </tr>\n",
       "    <tr>\n",
       "      <th>1</th>\n",
       "      <td>Four Days in September (O Que É Isso, Companhe...</td>\n",
       "      <td>5.0</td>\n",
       "    </tr>\n",
       "  </tbody>\n",
       "</table>\n",
       "</div>"
      ],
      "text/plain": [
       "                                               title  Average Rating\n",
       "0  American Friend, The (Amerikanische Freund, De...             5.0\n",
       "1  Four Days in September (O Que É Isso, Companhe...             5.0"
      ]
     },
     "execution_count": 32,
     "metadata": {},
     "output_type": "execute_result"
    }
   ],
   "source": [
    "# Movies with the highest average rating into separate df.\n",
    "avg_high_rated = df_clean.groupby(['title']).agg({\"rating\":\"mean\"})['rating'].sort_values(ascending=False)\n",
    "avg_high_rated = avg_high_rated.to_frame()\n",
    "avg_high_rated.reset_index(level=0, inplace=True)\n",
    "avg_high_rated.columns = ['title', 'Average Rating']\n",
    "avg_high_rated.head(2)\n"
   ]
  },
  {
   "cell_type": "code",
   "execution_count": 33,
   "metadata": {},
   "outputs": [
    {
     "data": {
      "text/html": [
       "<div>\n",
       "<style scoped>\n",
       "    .dataframe tbody tr th:only-of-type {\n",
       "        vertical-align: middle;\n",
       "    }\n",
       "\n",
       "    .dataframe tbody tr th {\n",
       "        vertical-align: top;\n",
       "    }\n",
       "\n",
       "    .dataframe thead th {\n",
       "        text-align: right;\n",
       "    }\n",
       "</style>\n",
       "<table border=\"1\" class=\"dataframe\">\n",
       "  <thead>\n",
       "    <tr style=\"text-align: right;\">\n",
       "      <th></th>\n",
       "      <th>movieId</th>\n",
       "      <th>title</th>\n",
       "      <th>genres</th>\n",
       "      <th>userId</th>\n",
       "      <th>rating</th>\n",
       "      <th>timestamp</th>\n",
       "      <th>Fantasy</th>\n",
       "      <th>Comedy</th>\n",
       "      <th>Animation</th>\n",
       "      <th>Children</th>\n",
       "      <th>...</th>\n",
       "      <th>Horror</th>\n",
       "      <th>Mystery</th>\n",
       "      <th>Sci-Fi</th>\n",
       "      <th>War</th>\n",
       "      <th>Musical</th>\n",
       "      <th>Documentary</th>\n",
       "      <th>IMAX</th>\n",
       "      <th>Western</th>\n",
       "      <th>Film-Noir</th>\n",
       "      <th>(no genres listed)</th>\n",
       "    </tr>\n",
       "  </thead>\n",
       "  <tbody>\n",
       "    <tr>\n",
       "      <th>0</th>\n",
       "      <td>1</td>\n",
       "      <td>Toy Story (1995)</td>\n",
       "      <td>Adventure|Animation|Children|Comedy|Fantasy</td>\n",
       "      <td>1</td>\n",
       "      <td>4.0</td>\n",
       "      <td>964982703</td>\n",
       "      <td>1.0</td>\n",
       "      <td>1.0</td>\n",
       "      <td>1.0</td>\n",
       "      <td>1.0</td>\n",
       "      <td>...</td>\n",
       "      <td>0.0</td>\n",
       "      <td>0.0</td>\n",
       "      <td>0.0</td>\n",
       "      <td>0.0</td>\n",
       "      <td>0.0</td>\n",
       "      <td>0.0</td>\n",
       "      <td>0.0</td>\n",
       "      <td>0.0</td>\n",
       "      <td>0.0</td>\n",
       "      <td>0.0</td>\n",
       "    </tr>\n",
       "    <tr>\n",
       "      <th>1</th>\n",
       "      <td>1</td>\n",
       "      <td>Toy Story (1995)</td>\n",
       "      <td>Adventure|Animation|Children|Comedy|Fantasy</td>\n",
       "      <td>5</td>\n",
       "      <td>4.0</td>\n",
       "      <td>847434962</td>\n",
       "      <td>1.0</td>\n",
       "      <td>1.0</td>\n",
       "      <td>1.0</td>\n",
       "      <td>1.0</td>\n",
       "      <td>...</td>\n",
       "      <td>0.0</td>\n",
       "      <td>0.0</td>\n",
       "      <td>0.0</td>\n",
       "      <td>0.0</td>\n",
       "      <td>0.0</td>\n",
       "      <td>0.0</td>\n",
       "      <td>0.0</td>\n",
       "      <td>0.0</td>\n",
       "      <td>0.0</td>\n",
       "      <td>0.0</td>\n",
       "    </tr>\n",
       "  </tbody>\n",
       "</table>\n",
       "<p>2 rows × 26 columns</p>\n",
       "</div>"
      ],
      "text/plain": [
       "   movieId             title                                       genres  \\\n",
       "0        1  Toy Story (1995)  Adventure|Animation|Children|Comedy|Fantasy   \n",
       "1        1  Toy Story (1995)  Adventure|Animation|Children|Comedy|Fantasy   \n",
       "\n",
       "   userId  rating  timestamp  Fantasy  Comedy  Animation  Children  ...  \\\n",
       "0       1     4.0  964982703      1.0     1.0        1.0       1.0  ...   \n",
       "1       5     4.0  847434962      1.0     1.0        1.0       1.0  ...   \n",
       "\n",
       "   Horror  Mystery  Sci-Fi  War  Musical  Documentary  IMAX  Western  \\\n",
       "0     0.0      0.0     0.0  0.0      0.0          0.0   0.0      0.0   \n",
       "1     0.0      0.0     0.0  0.0      0.0          0.0   0.0      0.0   \n",
       "\n",
       "   Film-Noir  (no genres listed)  \n",
       "0        0.0                 0.0  \n",
       "1        0.0                 0.0  \n",
       "\n",
       "[2 rows x 26 columns]"
      ]
     },
     "execution_count": 33,
     "metadata": {},
     "output_type": "execute_result"
    }
   ],
   "source": [
    "# Split the genres into separate columns with a binary result.\n",
    "genres_split = df_clean.genres.apply(lambda x: x.split(sep='|')).apply(pd.value_counts, 1).fillna(0)\n",
    "df_clean = pd.concat([df_clean.iloc[:,:], genres_split], axis=1)\n",
    "df_clean.head(2)\n"
   ]
  },
  {
   "cell_type": "code",
   "execution_count": 34,
   "metadata": {},
   "outputs": [
    {
     "data": {
      "text/plain": [
       "35.0"
      ]
     },
     "execution_count": 34,
     "metadata": {},
     "output_type": "execute_result"
    }
   ],
   "source": [
    "df_clean['(no genres listed)'].sum()"
   ]
  },
  {
   "cell_type": "code",
   "execution_count": 35,
   "metadata": {},
   "outputs": [
    {
     "name": "stdout",
     "output_type": "stream",
     "text": [
      "<class 'pandas.core.frame.DataFrame'>\n",
      "Int64Index: 81754 entries, 0 to 100822\n",
      "Data columns (total 26 columns):\n",
      " #   Column              Non-Null Count  Dtype  \n",
      "---  ------              --------------  -----  \n",
      " 0   movieId             81754 non-null  int64  \n",
      " 1   title               81754 non-null  object \n",
      " 2   genres              81754 non-null  object \n",
      " 3   userId              81754 non-null  int64  \n",
      " 4   rating              81754 non-null  float64\n",
      " 5   timestamp           81754 non-null  int64  \n",
      " 6   Fantasy             81754 non-null  float64\n",
      " 7   Comedy              81754 non-null  float64\n",
      " 8   Animation           81754 non-null  float64\n",
      " 9   Children            81754 non-null  float64\n",
      " 10  Adventure           81754 non-null  float64\n",
      " 11  Romance             81754 non-null  float64\n",
      " 12  Drama               81754 non-null  float64\n",
      " 13  Action              81754 non-null  float64\n",
      " 14  Crime               81754 non-null  float64\n",
      " 15  Thriller            81754 non-null  float64\n",
      " 16  Horror              81754 non-null  float64\n",
      " 17  Mystery             81754 non-null  float64\n",
      " 18  Sci-Fi              81754 non-null  float64\n",
      " 19  War                 81754 non-null  float64\n",
      " 20  Musical             81754 non-null  float64\n",
      " 21  Documentary         81754 non-null  float64\n",
      " 22  IMAX                81754 non-null  float64\n",
      " 23  Western             81754 non-null  float64\n",
      " 24  Film-Noir           81754 non-null  float64\n",
      " 25  (no genres listed)  81754 non-null  float64\n",
      "dtypes: float64(21), int64(3), object(2)\n",
      "memory usage: 16.8+ MB\n"
     ]
    }
   ],
   "source": [
    "df_clean.info()"
   ]
  },
  {
   "cell_type": "code",
   "execution_count": 36,
   "metadata": {},
   "outputs": [],
   "source": [
    "# Extract the release year from the 'title' column into a new 'year' column.\n",
    "import re\n",
    "\n",
    "def extract_year(title):\n",
    "    match = re.search('\\((\\d{4})\\)', title)\n",
    "    if match:\n",
    "        return match.group(1)\n",
    "    else:\n",
    "        return None\n",
    "\n",
    "df_clean['year'] = df_clean['title'].apply(extract_year)"
   ]
  },
  {
   "cell_type": "code",
   "execution_count": 37,
   "metadata": {},
   "outputs": [
    {
     "data": {
      "text/plain": [
       "14"
      ]
     },
     "execution_count": 37,
     "metadata": {},
     "output_type": "execute_result"
    }
   ],
   "source": [
    "# Checking for missing year values.\n",
    "df_clean['year'].isna().sum()\n"
   ]
  },
  {
   "cell_type": "code",
   "execution_count": 38,
   "metadata": {},
   "outputs": [
    {
     "data": {
      "text/plain": [
       "0"
      ]
     },
     "execution_count": 38,
     "metadata": {},
     "output_type": "execute_result"
    }
   ],
   "source": [
    "# Dropping missing values.\n",
    "df_clean.dropna(subset=['year'], inplace=True)\n",
    "df_clean['year'].isna().sum()\n"
   ]
  },
  {
   "cell_type": "code",
   "execution_count": 39,
   "metadata": {},
   "outputs": [],
   "source": [
    "df_clean['num_viewers'] = df_clean.groupby('movieId')['userId'].transform('count')\n"
   ]
  },
  {
   "cell_type": "code",
   "execution_count": 40,
   "metadata": {},
   "outputs": [
    {
     "data": {
      "text/html": [
       "<div>\n",
       "<style scoped>\n",
       "    .dataframe tbody tr th:only-of-type {\n",
       "        vertical-align: middle;\n",
       "    }\n",
       "\n",
       "    .dataframe tbody tr th {\n",
       "        vertical-align: top;\n",
       "    }\n",
       "\n",
       "    .dataframe thead th {\n",
       "        text-align: right;\n",
       "    }\n",
       "</style>\n",
       "<table border=\"1\" class=\"dataframe\">\n",
       "  <thead>\n",
       "    <tr style=\"text-align: right;\">\n",
       "      <th></th>\n",
       "      <th>movieId</th>\n",
       "      <th>title</th>\n",
       "      <th>genres</th>\n",
       "      <th>userId</th>\n",
       "      <th>rating</th>\n",
       "      <th>timestamp</th>\n",
       "      <th>Fantasy</th>\n",
       "      <th>Comedy</th>\n",
       "      <th>Animation</th>\n",
       "      <th>Children</th>\n",
       "      <th>...</th>\n",
       "      <th>Sci-Fi</th>\n",
       "      <th>War</th>\n",
       "      <th>Musical</th>\n",
       "      <th>Documentary</th>\n",
       "      <th>IMAX</th>\n",
       "      <th>Western</th>\n",
       "      <th>Film-Noir</th>\n",
       "      <th>(no genres listed)</th>\n",
       "      <th>year</th>\n",
       "      <th>num_viewers</th>\n",
       "    </tr>\n",
       "  </thead>\n",
       "  <tbody>\n",
       "    <tr>\n",
       "      <th>0</th>\n",
       "      <td>1</td>\n",
       "      <td>Toy Story (1995)</td>\n",
       "      <td>Adventure|Animation|Children|Comedy|Fantasy</td>\n",
       "      <td>1</td>\n",
       "      <td>4.0</td>\n",
       "      <td>964982703</td>\n",
       "      <td>1.0</td>\n",
       "      <td>1.0</td>\n",
       "      <td>1.0</td>\n",
       "      <td>1.0</td>\n",
       "      <td>...</td>\n",
       "      <td>0.0</td>\n",
       "      <td>0.0</td>\n",
       "      <td>0.0</td>\n",
       "      <td>0.0</td>\n",
       "      <td>0.0</td>\n",
       "      <td>0.0</td>\n",
       "      <td>0.0</td>\n",
       "      <td>0.0</td>\n",
       "      <td>1995</td>\n",
       "      <td>199</td>\n",
       "    </tr>\n",
       "    <tr>\n",
       "      <th>1</th>\n",
       "      <td>1</td>\n",
       "      <td>Toy Story (1995)</td>\n",
       "      <td>Adventure|Animation|Children|Comedy|Fantasy</td>\n",
       "      <td>5</td>\n",
       "      <td>4.0</td>\n",
       "      <td>847434962</td>\n",
       "      <td>1.0</td>\n",
       "      <td>1.0</td>\n",
       "      <td>1.0</td>\n",
       "      <td>1.0</td>\n",
       "      <td>...</td>\n",
       "      <td>0.0</td>\n",
       "      <td>0.0</td>\n",
       "      <td>0.0</td>\n",
       "      <td>0.0</td>\n",
       "      <td>0.0</td>\n",
       "      <td>0.0</td>\n",
       "      <td>0.0</td>\n",
       "      <td>0.0</td>\n",
       "      <td>1995</td>\n",
       "      <td>199</td>\n",
       "    </tr>\n",
       "  </tbody>\n",
       "</table>\n",
       "<p>2 rows × 28 columns</p>\n",
       "</div>"
      ],
      "text/plain": [
       "   movieId             title                                       genres  \\\n",
       "0        1  Toy Story (1995)  Adventure|Animation|Children|Comedy|Fantasy   \n",
       "1        1  Toy Story (1995)  Adventure|Animation|Children|Comedy|Fantasy   \n",
       "\n",
       "   userId  rating  timestamp  Fantasy  Comedy  Animation  Children  ...  \\\n",
       "0       1     4.0  964982703      1.0     1.0        1.0       1.0  ...   \n",
       "1       5     4.0  847434962      1.0     1.0        1.0       1.0  ...   \n",
       "\n",
       "   Sci-Fi  War  Musical  Documentary  IMAX  Western  Film-Noir  \\\n",
       "0     0.0  0.0      0.0          0.0   0.0      0.0        0.0   \n",
       "1     0.0  0.0      0.0          0.0   0.0      0.0        0.0   \n",
       "\n",
       "   (no genres listed)  year  num_viewers  \n",
       "0                 0.0  1995          199  \n",
       "1                 0.0  1995          199  \n",
       "\n",
       "[2 rows x 28 columns]"
      ]
     },
     "execution_count": 40,
     "metadata": {},
     "output_type": "execute_result"
    }
   ],
   "source": [
    "df_clean.head(2)"
   ]
  },
  {
   "cell_type": "code",
   "execution_count": 41,
   "metadata": {},
   "outputs": [
    {
     "name": "stdout",
     "output_type": "stream",
     "text": [
      "<class 'pandas.core.frame.DataFrame'>\n",
      "Int64Index: 81740 entries, 0 to 100822\n",
      "Data columns (total 28 columns):\n",
      " #   Column              Non-Null Count  Dtype  \n",
      "---  ------              --------------  -----  \n",
      " 0   movieId             81740 non-null  int64  \n",
      " 1   title               81740 non-null  object \n",
      " 2   genres              81740 non-null  object \n",
      " 3   userId              81740 non-null  int64  \n",
      " 4   rating              81740 non-null  float64\n",
      " 5   timestamp           81740 non-null  int64  \n",
      " 6   Fantasy             81740 non-null  float64\n",
      " 7   Comedy              81740 non-null  float64\n",
      " 8   Animation           81740 non-null  float64\n",
      " 9   Children            81740 non-null  float64\n",
      " 10  Adventure           81740 non-null  float64\n",
      " 11  Romance             81740 non-null  float64\n",
      " 12  Drama               81740 non-null  float64\n",
      " 13  Action              81740 non-null  float64\n",
      " 14  Crime               81740 non-null  float64\n",
      " 15  Thriller            81740 non-null  float64\n",
      " 16  Horror              81740 non-null  float64\n",
      " 17  Mystery             81740 non-null  float64\n",
      " 18  Sci-Fi              81740 non-null  float64\n",
      " 19  War                 81740 non-null  float64\n",
      " 20  Musical             81740 non-null  float64\n",
      " 21  Documentary         81740 non-null  float64\n",
      " 22  IMAX                81740 non-null  float64\n",
      " 23  Western             81740 non-null  float64\n",
      " 24  Film-Noir           81740 non-null  float64\n",
      " 25  (no genres listed)  81740 non-null  float64\n",
      " 26  year                81740 non-null  object \n",
      " 27  num_viewers         81740 non-null  int64  \n",
      "dtypes: float64(21), int64(4), object(3)\n",
      "memory usage: 18.1+ MB\n"
     ]
    }
   ],
   "source": [
    "df_clean.info()"
   ]
  },
  {
   "cell_type": "code",
   "execution_count": 42,
   "metadata": {},
   "outputs": [],
   "source": [
    "# Change year column to integer.\n",
    "df_clean['year'] = df_clean['year'].astype('int')\n"
   ]
  },
  {
   "cell_type": "code",
   "execution_count": 43,
   "metadata": {},
   "outputs": [
    {
     "name": "stdout",
     "output_type": "stream",
     "text": [
      "<class 'pandas.core.frame.DataFrame'>\n",
      "Int64Index: 81740 entries, 0 to 81739\n",
      "Data columns (total 29 columns):\n",
      " #   Column              Non-Null Count  Dtype  \n",
      "---  ------              --------------  -----  \n",
      " 0   movieId             81740 non-null  int64  \n",
      " 1   title               81740 non-null  object \n",
      " 2   genres              81740 non-null  object \n",
      " 3   userId              81740 non-null  int64  \n",
      " 4   rating              81740 non-null  float64\n",
      " 5   timestamp           81740 non-null  int64  \n",
      " 6   Fantasy             81740 non-null  float64\n",
      " 7   Comedy              81740 non-null  float64\n",
      " 8   Animation           81740 non-null  float64\n",
      " 9   Children            81740 non-null  float64\n",
      " 10  Adventure           81740 non-null  float64\n",
      " 11  Romance             81740 non-null  float64\n",
      " 12  Drama               81740 non-null  float64\n",
      " 13  Action              81740 non-null  float64\n",
      " 14  Crime               81740 non-null  float64\n",
      " 15  Thriller            81740 non-null  float64\n",
      " 16  Horror              81740 non-null  float64\n",
      " 17  Mystery             81740 non-null  float64\n",
      " 18  Sci-Fi              81740 non-null  float64\n",
      " 19  War                 81740 non-null  float64\n",
      " 20  Musical             81740 non-null  float64\n",
      " 21  Documentary         81740 non-null  float64\n",
      " 22  IMAX                81740 non-null  float64\n",
      " 23  Western             81740 non-null  float64\n",
      " 24  Film-Noir           81740 non-null  float64\n",
      " 25  (no genres listed)  81740 non-null  float64\n",
      " 26  year                81740 non-null  int32  \n",
      " 27  num_viewers         81740 non-null  int64  \n",
      " 28  Average Rating      81740 non-null  float64\n",
      "dtypes: float64(22), int32(1), int64(4), object(2)\n",
      "memory usage: 18.4+ MB\n"
     ]
    }
   ],
   "source": [
    "# Creating df_clean2 to have copy before dividing the years into decades.\n",
    "df_clean_col = df_clean.copy()\n",
    "df_clean2 = df_clean_col.merge(avg_high_rated, on='title')\n",
    "df_clean2.info()"
   ]
  },
  {
   "cell_type": "code",
   "execution_count": 44,
   "metadata": {},
   "outputs": [],
   "source": [
    "df_clean2 = df_clean2.drop(columns='timestamp', axis=1)"
   ]
  },
  {
   "cell_type": "code",
   "execution_count": 45,
   "metadata": {},
   "outputs": [
    {
     "name": "stdout",
     "output_type": "stream",
     "text": [
      "<class 'pandas.core.frame.DataFrame'>\n",
      "Int64Index: 8432 entries, 0 to 81739\n",
      "Data columns (total 28 columns):\n",
      " #   Column              Non-Null Count  Dtype  \n",
      "---  ------              --------------  -----  \n",
      " 0   movieId             8432 non-null   int64  \n",
      " 1   title               8432 non-null   object \n",
      " 2   genres              8432 non-null   object \n",
      " 3   userId              8432 non-null   int64  \n",
      " 4   rating              8432 non-null   float64\n",
      " 5   Fantasy             8432 non-null   float64\n",
      " 6   Comedy              8432 non-null   float64\n",
      " 7   Animation           8432 non-null   float64\n",
      " 8   Children            8432 non-null   float64\n",
      " 9   Adventure           8432 non-null   float64\n",
      " 10  Romance             8432 non-null   float64\n",
      " 11  Drama               8432 non-null   float64\n",
      " 12  Action              8432 non-null   float64\n",
      " 13  Crime               8432 non-null   float64\n",
      " 14  Thriller            8432 non-null   float64\n",
      " 15  Horror              8432 non-null   float64\n",
      " 16  Mystery             8432 non-null   float64\n",
      " 17  Sci-Fi              8432 non-null   float64\n",
      " 18  War                 8432 non-null   float64\n",
      " 19  Musical             8432 non-null   float64\n",
      " 20  Documentary         8432 non-null   float64\n",
      " 21  IMAX                8432 non-null   float64\n",
      " 22  Western             8432 non-null   float64\n",
      " 23  Film-Noir           8432 non-null   float64\n",
      " 24  (no genres listed)  8432 non-null   float64\n",
      " 25  year                8432 non-null   int32  \n",
      " 26  num_viewers         8432 non-null   int64  \n",
      " 27  Average Rating      8432 non-null   float64\n",
      "dtypes: float64(22), int32(1), int64(3), object(2)\n",
      "memory usage: 1.8+ MB\n"
     ]
    }
   ],
   "source": [
    "df_clean2 = df_clean2.drop_duplicates(subset='title', keep='first')\n",
    "df_clean2.info()\n"
   ]
  },
  {
   "cell_type": "code",
   "execution_count": 46,
   "metadata": {},
   "outputs": [],
   "source": [
    "df_clean2['genres'] = df_clean2['genres'].str.replace('|', ' ')\n"
   ]
  },
  {
   "cell_type": "code",
   "execution_count": 47,
   "metadata": {},
   "outputs": [],
   "source": [
    "# Creating columns for each decade span with a binary value for each movie.\n",
    "df_clean['1900s'] = ((df_clean['year'] >= 1900) & (df_clean['year'] < 1910)).astype(float)\n",
    "df_clean['1910s'] = ((df_clean['year'] >= 1910) & (df_clean['year'] < 1920)).astype(float)\n",
    "df_clean['1920s'] = ((df_clean['year'] >= 1920) & (df_clean['year'] < 1930)).astype(float)\n",
    "df_clean['1930s'] = ((df_clean['year'] >= 1930) & (df_clean['year'] < 1940)).astype(float)\n",
    "df_clean['1940s'] = ((df_clean['year'] >= 1940) & (df_clean['year'] < 1950)).astype(float)\n",
    "df_clean['1950s'] = ((df_clean['year'] >= 1950) & (df_clean['year'] < 1960)).astype(float)\n",
    "df_clean['1960s'] = ((df_clean['year'] >= 1960) & (df_clean['year'] < 1970)).astype(float)\n",
    "df_clean['1970s'] = ((df_clean['year'] >= 1970) & (df_clean['year'] < 1980)).astype(float)\n",
    "df_clean['1980s'] = ((df_clean['year'] >= 1980) & (df_clean['year'] < 1990)).astype(float)\n",
    "df_clean['1990s'] = ((df_clean['year'] >= 1990) & (df_clean['year'] < 2000)).astype(float)\n",
    "df_clean['2000s'] = ((df_clean['year'] >= 2000) & (df_clean['year'] < 2010)).astype(float)\n",
    "df_clean['2010s'] = ((df_clean['year'] >= 2010) & (df_clean['year'] < 2020)).astype(float)\n"
   ]
  },
  {
   "cell_type": "code",
   "execution_count": 48,
   "metadata": {},
   "outputs": [
    {
     "data": {
      "text/html": [
       "<div>\n",
       "<style scoped>\n",
       "    .dataframe tbody tr th:only-of-type {\n",
       "        vertical-align: middle;\n",
       "    }\n",
       "\n",
       "    .dataframe tbody tr th {\n",
       "        vertical-align: top;\n",
       "    }\n",
       "\n",
       "    .dataframe thead th {\n",
       "        text-align: right;\n",
       "    }\n",
       "</style>\n",
       "<table border=\"1\" class=\"dataframe\">\n",
       "  <thead>\n",
       "    <tr style=\"text-align: right;\">\n",
       "      <th></th>\n",
       "      <th>movieId</th>\n",
       "      <th>title</th>\n",
       "      <th>genres</th>\n",
       "      <th>userId</th>\n",
       "      <th>rating</th>\n",
       "      <th>timestamp</th>\n",
       "      <th>Fantasy</th>\n",
       "      <th>Comedy</th>\n",
       "      <th>Animation</th>\n",
       "      <th>Children</th>\n",
       "      <th>...</th>\n",
       "      <th>1920s</th>\n",
       "      <th>1930s</th>\n",
       "      <th>1940s</th>\n",
       "      <th>1950s</th>\n",
       "      <th>1960s</th>\n",
       "      <th>1970s</th>\n",
       "      <th>1980s</th>\n",
       "      <th>1990s</th>\n",
       "      <th>2000s</th>\n",
       "      <th>2010s</th>\n",
       "    </tr>\n",
       "  </thead>\n",
       "  <tbody>\n",
       "    <tr>\n",
       "      <th>0</th>\n",
       "      <td>1</td>\n",
       "      <td>Toy Story (1995)</td>\n",
       "      <td>Adventure|Animation|Children|Comedy|Fantasy</td>\n",
       "      <td>1</td>\n",
       "      <td>4.0</td>\n",
       "      <td>964982703</td>\n",
       "      <td>1.0</td>\n",
       "      <td>1.0</td>\n",
       "      <td>1.0</td>\n",
       "      <td>1.0</td>\n",
       "      <td>...</td>\n",
       "      <td>0.0</td>\n",
       "      <td>0.0</td>\n",
       "      <td>0.0</td>\n",
       "      <td>0.0</td>\n",
       "      <td>0.0</td>\n",
       "      <td>0.0</td>\n",
       "      <td>0.0</td>\n",
       "      <td>1.0</td>\n",
       "      <td>0.0</td>\n",
       "      <td>0.0</td>\n",
       "    </tr>\n",
       "    <tr>\n",
       "      <th>1</th>\n",
       "      <td>1</td>\n",
       "      <td>Toy Story (1995)</td>\n",
       "      <td>Adventure|Animation|Children|Comedy|Fantasy</td>\n",
       "      <td>5</td>\n",
       "      <td>4.0</td>\n",
       "      <td>847434962</td>\n",
       "      <td>1.0</td>\n",
       "      <td>1.0</td>\n",
       "      <td>1.0</td>\n",
       "      <td>1.0</td>\n",
       "      <td>...</td>\n",
       "      <td>0.0</td>\n",
       "      <td>0.0</td>\n",
       "      <td>0.0</td>\n",
       "      <td>0.0</td>\n",
       "      <td>0.0</td>\n",
       "      <td>0.0</td>\n",
       "      <td>0.0</td>\n",
       "      <td>1.0</td>\n",
       "      <td>0.0</td>\n",
       "      <td>0.0</td>\n",
       "    </tr>\n",
       "  </tbody>\n",
       "</table>\n",
       "<p>2 rows × 40 columns</p>\n",
       "</div>"
      ],
      "text/plain": [
       "   movieId             title                                       genres  \\\n",
       "0        1  Toy Story (1995)  Adventure|Animation|Children|Comedy|Fantasy   \n",
       "1        1  Toy Story (1995)  Adventure|Animation|Children|Comedy|Fantasy   \n",
       "\n",
       "   userId  rating  timestamp  Fantasy  Comedy  Animation  Children  ...  \\\n",
       "0       1     4.0  964982703      1.0     1.0        1.0       1.0  ...   \n",
       "1       5     4.0  847434962      1.0     1.0        1.0       1.0  ...   \n",
       "\n",
       "   1920s  1930s  1940s  1950s  1960s  1970s  1980s  1990s  2000s  2010s  \n",
       "0    0.0    0.0    0.0    0.0    0.0    0.0    0.0    1.0    0.0    0.0  \n",
       "1    0.0    0.0    0.0    0.0    0.0    0.0    0.0    1.0    0.0    0.0  \n",
       "\n",
       "[2 rows x 40 columns]"
      ]
     },
     "execution_count": 48,
     "metadata": {},
     "output_type": "execute_result"
    }
   ],
   "source": [
    "df_clean.head(2)"
   ]
  },
  {
   "cell_type": "code",
   "execution_count": 49,
   "metadata": {},
   "outputs": [
    {
     "name": "stdout",
     "output_type": "stream",
     "text": [
      "<class 'pandas.core.frame.DataFrame'>\n",
      "Int64Index: 81740 entries, 0 to 100822\n",
      "Data columns (total 40 columns):\n",
      " #   Column              Non-Null Count  Dtype  \n",
      "---  ------              --------------  -----  \n",
      " 0   movieId             81740 non-null  int64  \n",
      " 1   title               81740 non-null  object \n",
      " 2   genres              81740 non-null  object \n",
      " 3   userId              81740 non-null  int64  \n",
      " 4   rating              81740 non-null  float64\n",
      " 5   timestamp           81740 non-null  int64  \n",
      " 6   Fantasy             81740 non-null  float64\n",
      " 7   Comedy              81740 non-null  float64\n",
      " 8   Animation           81740 non-null  float64\n",
      " 9   Children            81740 non-null  float64\n",
      " 10  Adventure           81740 non-null  float64\n",
      " 11  Romance             81740 non-null  float64\n",
      " 12  Drama               81740 non-null  float64\n",
      " 13  Action              81740 non-null  float64\n",
      " 14  Crime               81740 non-null  float64\n",
      " 15  Thriller            81740 non-null  float64\n",
      " 16  Horror              81740 non-null  float64\n",
      " 17  Mystery             81740 non-null  float64\n",
      " 18  Sci-Fi              81740 non-null  float64\n",
      " 19  War                 81740 non-null  float64\n",
      " 20  Musical             81740 non-null  float64\n",
      " 21  Documentary         81740 non-null  float64\n",
      " 22  IMAX                81740 non-null  float64\n",
      " 23  Western             81740 non-null  float64\n",
      " 24  Film-Noir           81740 non-null  float64\n",
      " 25  (no genres listed)  81740 non-null  float64\n",
      " 26  year                81740 non-null  int32  \n",
      " 27  num_viewers         81740 non-null  int64  \n",
      " 28  1900s               81740 non-null  float64\n",
      " 29  1910s               81740 non-null  float64\n",
      " 30  1920s               81740 non-null  float64\n",
      " 31  1930s               81740 non-null  float64\n",
      " 32  1940s               81740 non-null  float64\n",
      " 33  1950s               81740 non-null  float64\n",
      " 34  1960s               81740 non-null  float64\n",
      " 35  1970s               81740 non-null  float64\n",
      " 36  1980s               81740 non-null  float64\n",
      " 37  1990s               81740 non-null  float64\n",
      " 38  2000s               81740 non-null  float64\n",
      " 39  2010s               81740 non-null  float64\n",
      "dtypes: float64(33), int32(1), int64(4), object(2)\n",
      "memory usage: 25.3+ MB\n"
     ]
    }
   ],
   "source": [
    "df_clean.info()\n"
   ]
  },
  {
   "cell_type": "code",
   "execution_count": 50,
   "metadata": {},
   "outputs": [],
   "source": [
    "#Dropping these two columns as they are not needed for further analysis\n",
    "df_clean.drop(columns=['(no genres listed)','timestamp'],inplace=True)\n"
   ]
  },
  {
   "cell_type": "markdown",
   "metadata": {},
   "source": [
    "# Modeling"
   ]
  },
  {
   "cell_type": "code",
   "execution_count": 51,
   "metadata": {},
   "outputs": [],
   "source": [
    "#import necessary packages for modeling\n",
    "import os\n",
    "import pandas as pd\n",
    "import numpy as np\n",
    "import matplotlib.pyplot as plt\n",
    "from scipy.sparse import csr_matrix\n",
    "from sklearn.neighbors import NearestNeighbors\n",
    "\n",
    "from sklearn.metrics.pairwise import cosine_similarity\n",
    "from scipy.sparse import csr_matrix\n",
    "from scipy.sparse.linalg import svds\n",
    "import surprise\n",
    "from surprise import KNNWithMeans, Dataset, accuracy, Reader, SVD\n",
    "from surprise.model_selection import train_test_split\n",
    "from surprise.model_selection import cross_validate\n",
    "from sklearn.preprocessing import MultiLabelBinarizer\n",
    "\n",
    "from surprise.prediction_algorithms import SVD\n",
    "from surprise.model_selection import GridSearchCV\n",
    "from surprise.model_selection import RandomizedSearchCV\n",
    "from sklearn.preprocessing import MinMaxScaler\n",
    "from sklearn.neighbors import NearestNeighbors"
   ]
  },
  {
   "cell_type": "code",
   "execution_count": 59,
   "metadata": {},
   "outputs": [
    {
     "name": "stdout",
     "output_type": "stream",
     "text": [
      "Unique number of users in the dataset: 609\n",
      "Unique number of movies in the dataset: 8432\n"
     ]
    }
   ],
   "source": [
    "num_users = len(df_clean['userId'].value_counts())\n",
    "num_items = len(df_clean['title'].value_counts())\n",
    "print('Unique number of users in the dataset: {}'.format(num_users))\n",
    "print('Unique number of movies in the dataset: {}'.format(num_items))"
   ]
  },
  {
   "cell_type": "markdown",
   "metadata": {},
   "source": [
    "# Collaborative Filtering"
   ]
  },
  {
   "cell_type": "markdown",
   "metadata": {},
   "source": [
    "Collaborative filtering assumes that users who have agreed in the past are likely to agree in the future and have similar preferences. This method generates recommendations by analyzing the rating profiles of different users or items. By identifying other users/items with similar rating histories to the current user/item, it generates recommendations using this information. This technique creates a model based on a user's past actions, including items purchased, selected, or rated. The model is then used to predict items or ratings that the user may be interested in. Collaborative filtering can be classified as memory-based or model-based."
   ]
  },
  {
   "cell_type": "code",
   "execution_count": 60,
   "metadata": {},
   "outputs": [
    {
     "name": "stdout",
     "output_type": "stream",
     "text": [
      "MAE:  0.4888\n",
      "MSE: 0.3605\n"
     ]
    },
    {
     "data": {
      "text/plain": [
       "0.3605061275445651"
      ]
     },
     "execution_count": 60,
     "metadata": {},
     "output_type": "execute_result"
    }
   ],
   "source": [
    "from surprise import Dataset, Reader, SVD, accuracy\n",
    "from surprise.model_selection import train_test_split\n",
    "\n",
    "reader = Reader(rating_scale=(3.0, 5.0))\n",
    "data = Dataset.load_from_df(df_clean[['userId', 'movieId', 'rating']], reader)\n",
    "\n",
    "# split the data into training and testing sets\n",
    "trainset, testset = train_test_split(data, test_size=.25)\n",
    "\n",
    "# create an instance of the SVD algorithm and fit it on the training set\n",
    "algo = SVD()\n",
    "algo.fit(trainset)\n",
    "\n",
    "# use the fitted model to predict ratings on the testing set\n",
    "predictions = algo.test(testset)\n",
    "\n",
    "# evaluate the performance of the model using different metrics\n",
    "accuracy.mae(predictions)\n",
    "accuracy.mse(predictions)\n"
   ]
  },
  {
   "cell_type": "code",
   "execution_count": 61,
   "metadata": {},
   "outputs": [
    {
     "data": {
      "text/plain": [
       "<surprise.prediction_algorithms.matrix_factorization.SVD at 0x2419b87a940>"
      ]
     },
     "execution_count": 61,
     "metadata": {},
     "output_type": "execute_result"
    }
   ],
   "source": [
    "# create a dictionary to map movie IDs to their indices in the dataset\n",
    "movie_to_idx = {movie_id: i for i, movie_id in enumerate(df_clean['movieId'].unique())}\n",
    "\n",
    "# create an instance of the SVD algorithm and fit it on the training set\n",
    "algo = SVD()\n",
    "algo.fit(trainset)"
   ]
  },
  {
   "cell_type": "code",
   "execution_count": 63,
   "metadata": {},
   "outputs": [],
   "source": [
    "def recommend_movies(user_id):\n",
    "    # get all movies that the user has not rated yet\n",
    "    user_movies = df_clean[df_clean['userId'] == user_id]['movieId']\n",
    "    unrated_movies = [movie_id for movie_id in df_clean['movieId'].unique() if movie_id not in user_movies]\n",
    "\n",
    "    # create a list of tuples containing the movie ID and the predicted rating\n",
    "    movie_ratings = [(movie_id, algo.predict(user_id, movie_to_idx[movie_id]).est) for movie_id in unrated_movies]\n",
    "\n",
    "    # sort the list of tuples by the predicted rating in descending order and get the top 5 movies\n",
    "    top_movies = sorted(movie_ratings, key=lambda x: x[1], reverse=True)[:5]\n",
    "\n",
    "    # map the recommended movie indices back to their titles\n",
    "    recommended_movies = [(df_clean[df_clean['movieId'] == movie_id]['title'].iloc[0], rating) for movie_id, rating in top_movies]\n",
    "\n",
    "    # create a dataframe with the recommended movie titles and predicted ratings\n",
    "    recommended_movies_df = pd.DataFrame(recommended_movies, columns=['title', 'predicted_rating'])\n",
    "\n",
    "    return recommended_movies_df"
   ]
  },
  {
   "cell_type": "code",
   "execution_count": 64,
   "metadata": {},
   "outputs": [
    {
     "data": {
      "text/html": [
       "<div>\n",
       "<style scoped>\n",
       "    .dataframe tbody tr th:only-of-type {\n",
       "        vertical-align: middle;\n",
       "    }\n",
       "\n",
       "    .dataframe tbody tr th {\n",
       "        vertical-align: top;\n",
       "    }\n",
       "\n",
       "    .dataframe thead th {\n",
       "        text-align: right;\n",
       "    }\n",
       "</style>\n",
       "<table border=\"1\" class=\"dataframe\">\n",
       "  <thead>\n",
       "    <tr style=\"text-align: right;\">\n",
       "      <th></th>\n",
       "      <th>title</th>\n",
       "      <th>predicted_rating</th>\n",
       "    </tr>\n",
       "  </thead>\n",
       "  <tbody>\n",
       "    <tr>\n",
       "      <th>0</th>\n",
       "      <td>Henry V (1989)</td>\n",
       "      <td>4.898207</td>\n",
       "    </tr>\n",
       "    <tr>\n",
       "      <th>1</th>\n",
       "      <td>Georgia (1995)</td>\n",
       "      <td>4.890680</td>\n",
       "    </tr>\n",
       "    <tr>\n",
       "      <th>2</th>\n",
       "      <td>Grifters, The (1990)</td>\n",
       "      <td>4.884759</td>\n",
       "    </tr>\n",
       "    <tr>\n",
       "      <th>3</th>\n",
       "      <td>Parent Trap, The (1961)</td>\n",
       "      <td>4.841632</td>\n",
       "    </tr>\n",
       "    <tr>\n",
       "      <th>4</th>\n",
       "      <td>Simpatico (1999)</td>\n",
       "      <td>4.813435</td>\n",
       "    </tr>\n",
       "  </tbody>\n",
       "</table>\n",
       "</div>"
      ],
      "text/plain": [
       "                     title  predicted_rating\n",
       "0           Henry V (1989)          4.898207\n",
       "1           Georgia (1995)          4.890680\n",
       "2     Grifters, The (1990)          4.884759\n",
       "3  Parent Trap, The (1961)          4.841632\n",
       "4         Simpatico (1999)          4.813435"
      ]
     },
     "execution_count": 64,
     "metadata": {},
     "output_type": "execute_result"
    }
   ],
   "source": [
    "recommend_movies(400) "
   ]
  },
  {
   "cell_type": "code",
   "execution_count": 65,
   "metadata": {},
   "outputs": [
    {
     "name": "stdout",
     "output_type": "stream",
     "text": [
      "                                                    title  rating\n",
      "501                                           Heat (1995)     5.0\n",
      "17077                                        Fargo (1996)     5.0\n",
      "58450                          Requiem for a Dream (2000)     5.0\n",
      "2243                          Seven (a.k.a. Se7en) (1995)     5.0\n",
      "25995   Star Wars: Episode VI - Return of the Jedi (1983)     5.0\n",
      "82040                                   Inside Man (2006)     5.0\n",
      "24787   Star Wars: Episode V - The Empire Strikes Back...     5.0\n",
      "91434                                    Inception (2010)     5.0\n",
      "19963                               Godfather, The (1972)     5.0\n",
      "45192                                  Matrix, The (1999)     5.0\n",
      "18793                                Trainspotting (1996)     5.0\n",
      "16407                    Silence of the Lambs, The (1991)     5.0\n",
      "8860                     Shawshank Redemption, The (1994)     5.0\n",
      "8068                                  Pulp Fiction (1994)     5.0\n",
      "7813    Léon: The Professional (a.k.a. The Professiona...     5.0\n",
      "7018            Star Wars: Episode IV - A New Hope (1977)     5.0\n",
      "2522                           Usual Suspects, The (1995)     5.0\n",
      "49965                                   Fight Club (1999)     5.0\n",
      "98154   Star Wars: Episode VII - The Force Awakens (2015)     4.5\n",
      "100103                                     Arrival (2016)     4.5\n",
      "90921                     How to Train Your Dragon (2010)     4.5\n",
      "86953                             Dark Knight, The (2008)     4.5\n",
      "63935                                 Donnie Darko (2001)     4.5\n",
      "26707                      Godfather: Part II, The (1974)     4.5\n",
      "24947                          Princess Bride, The (1987)     4.5\n",
      "28045                                 Shining, The (1980)     4.5\n",
      "26179                                   Goodfellas (1990)     4.5\n",
      "10230                                 Forrest Gump (1994)     4.5\n",
      "25133   Raiders of the Lost Ark (Indiana Jones and the...     4.5\n",
      "14694                                 Blade Runner (1982)     4.5\n",
      "22350                                     Die Hard (1988)     4.5\n",
      "24589              One Flew Over the Cuckoo's Nest (1975)     4.5\n",
      "28683                           Back to the Future (1985)     4.0\n",
      "98799                                  The Martian (2015)     4.0\n",
      "83071                    Pursuit of Happyness, The (2006)     4.0\n",
      "83564                                Departed, The (2006)     4.0\n",
      "55624                                    Gladiator (2000)     4.0\n",
      "82139                          Lucky Number Slevin (2006)     4.0\n",
      "73963   Lord of the Rings: The Return of the King, The...     4.0\n",
      "65070   Lord of the Rings: The Fellowship of the Ring,...     4.0\n",
      "100310                                       Logan (2017)     4.0\n"
     ]
    }
   ],
   "source": [
    "user_id = 400 # replace with the ID of the user you want to look up\n",
    "\n",
    "movies_rated_by_user = df_clean[df_clean['userId'] == user_id][['title', 'rating']].sort_values(by='rating', ascending=False)\n",
    "\n",
    "print(movies_rated_by_user)"
   ]
  },
  {
   "cell_type": "markdown",
   "metadata": {},
   "source": [
    "# Code for model tuning"
   ]
  },
  {
   "cell_type": "markdown",
   "metadata": {},
   "source": [
    "This is done to prevent overfitting."
   ]
  },
  {
   "cell_type": "code",
   "execution_count": 66,
   "metadata": {},
   "outputs": [],
   "source": [
    "from sklearn.model_selection import train_test_split\n",
    "\n",
    "train_data, test_data = train_test_split(df_clean[['userId', 'title', 'rating']], test_size=0.2, random_state=42)\n",
    "train_data, val_data = train_test_split(train_data, test_size=0.2, random_state=42)"
   ]
  },
  {
   "cell_type": "code",
   "execution_count": 67,
   "metadata": {},
   "outputs": [],
   "source": [
    "#initialize training,  validation and testing data\n",
    "reader = Reader(rating_scale=(1.0, 5.0))\n",
    "train_set = Dataset.load_from_df(train_data[['userId', 'title', 'rating']], reader)\n",
    "test_set = Dataset.load_from_df(test_data[['userId', 'title', 'rating']], reader)\n",
    "val_set = Dataset.load_from_df(val_data[['userId', 'title', 'rating']], reader)"
   ]
  },
  {
   "cell_type": "code",
   "execution_count": 68,
   "metadata": {},
   "outputs": [
    {
     "data": {
      "text/plain": [
       "<surprise.prediction_algorithms.matrix_factorization.SVD at 0x2419b85edc0>"
      ]
     },
     "execution_count": 68,
     "metadata": {},
     "output_type": "execute_result"
    }
   ],
   "source": [
    "#run SVD model\n",
    "model = SVD()\n",
    "train_set_full = train_set.build_full_trainset()\n",
    "model.fit(train_set_full)"
   ]
  },
  {
   "cell_type": "code",
   "execution_count": 69,
   "metadata": {},
   "outputs": [
    {
     "name": "stdout",
     "output_type": "stream",
     "text": [
      "MAE:  0.4879\n",
      "MSE: 0.3644\n"
     ]
    },
    {
     "data": {
      "text/plain": [
       "0.36436999808902265"
      ]
     },
     "execution_count": 69,
     "metadata": {},
     "output_type": "execute_result"
    }
   ],
   "source": [
    "test_predictions = model.test(test_set.build_full_trainset().build_testset())\n",
    "val_predictions = model.test(val_set.build_full_trainset().build_testset())\n",
    "\n",
    "accuracy.mae(test_predictions)\n",
    "accuracy.mse(val_predictions)\n"
   ]
  },
  {
   "cell_type": "code",
   "execution_count": 70,
   "metadata": {},
   "outputs": [
    {
     "name": "stdout",
     "output_type": "stream",
     "text": [
      "Evaluating RMSE of algorithm SVD on 5 split(s).\n",
      "\n",
      "                  Fold 1  Fold 2  Fold 3  Fold 4  Fold 5  Mean    Std     \n",
      "RMSE (testset)    0.6009  0.5983  0.6073  0.6029  0.6008  0.6020  0.0030  \n",
      "Fit time          6.45    6.76    6.42    6.45    7.24    6.67    0.31    \n",
      "Test time         0.28    0.16    0.23    0.23    0.17    0.22    0.04    \n"
     ]
    }
   ],
   "source": [
    "results = cross_validate(model, train_set, measures=['RMSE'], cv=5, verbose=True)"
   ]
  },
  {
   "cell_type": "code",
   "execution_count": 71,
   "metadata": {},
   "outputs": [
    {
     "name": "stderr",
     "output_type": "stream",
     "text": [
      "[Parallel(n_jobs=-1)]: Using backend LokyBackend with 8 concurrent workers.\n",
      "[Parallel(n_jobs=-1)]: Done   2 tasks      | elapsed:    7.7s\n",
      "[Parallel(n_jobs=-1)]: Done  56 tasks      | elapsed:   53.8s\n",
      "[Parallel(n_jobs=-1)]: Done 146 tasks      | elapsed:  3.3min\n",
      "[Parallel(n_jobs=-1)]: Done 272 tasks      | elapsed:  7.7min\n",
      "[Parallel(n_jobs=-1)]: Done 405 out of 405 | elapsed: 19.9min finished\n"
     ]
    }
   ],
   "source": [
    "param_grid = {'n_factors':[50, 100, 200],'n_epochs': [10, 20, 30], 'lr_all': [0.002, 0.005, 0.01],\n",
    "               'reg_all': [0.02, 0.1, 0.4]}\n",
    "gs_model = GridSearchCV(SVD,param_grid=param_grid,n_jobs = -1,joblib_verbose=5)\n",
    "gs_model.fit(data)\n",
    "best_rmse = gs_model.best_score['rmse']\n",
    "best_params = gs_model.best_params['rmse']"
   ]
  },
  {
   "cell_type": "code",
   "execution_count": 72,
   "metadata": {},
   "outputs": [
    {
     "name": "stdout",
     "output_type": "stream",
     "text": [
      "Best RMSE: 0.5915132042812975\n"
     ]
    }
   ],
   "source": [
    "print('Best RMSE: ' + str(best_rmse))"
   ]
  },
  {
   "cell_type": "code",
   "execution_count": 73,
   "metadata": {},
   "outputs": [
    {
     "name": "stdout",
     "output_type": "stream",
     "text": [
      "Best Params: {'n_factors': 50, 'n_epochs': 30, 'lr_all': 0.005, 'reg_all': 0.1}\n"
     ]
    }
   ],
   "source": [
    "print('Best Params: ' + str(best_params))"
   ]
  },
  {
   "cell_type": "code",
   "execution_count": 74,
   "metadata": {},
   "outputs": [
    {
     "name": "stdout",
     "output_type": "stream",
     "text": [
      "RMSE: 0.6020\n",
      "0.6020199402696972\n"
     ]
    }
   ],
   "source": [
    "svd = SVD(n_factors=100, n_epochs=10, lr_all=0.005, reg_all=0.4)\n",
    "svd.fit(trainset)\n",
    "predictions = svd.test(testset)\n",
    "print(accuracy.rmse(predictions))"
   ]
  },
  {
   "cell_type": "code",
   "execution_count": 75,
   "metadata": {},
   "outputs": [],
   "source": [
    "# Define the search space for hyperparameters\n",
    "param_distributions = {'n_factors': [50, 100, 200],\n",
    "                       'n_epochs': [10, 20, 30],\n",
    "                       'lr_all': [0.002, 0.005, 0.01],\n",
    "                       'reg_all': [0.02, 0.1, 0.4]}\n",
    "# Create the randomized search object\n",
    "rs = RandomizedSearchCV(SVD, param_distributions, n_iter=10, measures=['rmse', 'mae'], cv=5)\n",
    "\n",
    "# Run the randomized search\n",
    "rs.fit(data)\n",
    "\n",
    "# Get the best RMSE score and the corresponding hyperparameters\n",
    "best_rmse = rs.best_score['rmse']\n",
    "best_params = rs.best_params['rmse']"
   ]
  },
  {
   "cell_type": "code",
   "execution_count": 76,
   "metadata": {},
   "outputs": [
    {
     "name": "stdout",
     "output_type": "stream",
     "text": [
      "Best RMSE: 0.5918298213564797\n"
     ]
    }
   ],
   "source": [
    "print('Best RMSE: ' + str(best_rmse))"
   ]
  },
  {
   "cell_type": "code",
   "execution_count": 77,
   "metadata": {},
   "outputs": [
    {
     "name": "stdout",
     "output_type": "stream",
     "text": [
      "Best Params: {'n_factors': 100, 'n_epochs': 30, 'lr_all': 0.005, 'reg_all': 0.1}\n"
     ]
    }
   ],
   "source": [
    "print('Best Params: ' + str(best_params))"
   ]
  },
  {
   "cell_type": "markdown",
   "metadata": {},
   "source": [
    "# Content-based Recommendation System"
   ]
  },
  {
   "cell_type": "markdown",
   "metadata": {},
   "source": [
    "This type of recommender system uses specific characteristics or features of an item, such as its description, to suggest similar items to the user. It also takes into account the user's preferences and history to generate personalized recommendations. For example, it can recommend movies that are similar to a movie that the user has watched or based on all of the movies that the user has viewed. The system extracts relevant features from the item and uses the user's history to provide suggestions."
   ]
  },
  {
   "cell_type": "code",
   "execution_count": 78,
   "metadata": {},
   "outputs": [
    {
     "name": "stdout",
     "output_type": "stream",
     "text": [
      "MAE:  0.3789\n",
      "MSE: 0.2282\n"
     ]
    },
    {
     "data": {
      "text/plain": [
       "0.2282254888768546"
      ]
     },
     "execution_count": 78,
     "metadata": {},
     "output_type": "execute_result"
    }
   ],
   "source": [
    "from surprise import Reader, Dataset, SVD, accuracy\n",
    "from surprise.model_selection import train_test_split\n",
    "\n",
    "reader = Reader(rating_scale=(3.0, 5.0))\n",
    "data = Dataset.load_from_df(df_clean2[['title', 'year', 'Average Rating']], reader)\n",
    "\n",
    "# split the data into training and testing sets\n",
    "trainset, testset = train_test_split(data, test_size=.25)\n",
    "\n",
    "# create an instance of the SVD algorithm and fit it on the training set\n",
    "algo = SVD()\n",
    "algo.fit(trainset)\n",
    "\n",
    "# use the fitted model to predict ratings on the testing set\n",
    "predictions3 = algo.test(testset)\n",
    "\n",
    "# evaluate the performance of the model using different metrics\n",
    "accuracy.mae(predictions3)\n",
    "accuracy.mse(predictions3)\n"
   ]
  },
  {
   "cell_type": "code",
   "execution_count": 79,
   "metadata": {},
   "outputs": [
    {
     "name": "stdout",
     "output_type": "stream",
     "text": [
      "Computing the cosine similarity matrix...\n",
      "Done computing similarity matrix.\n"
     ]
    },
    {
     "data": {
      "text/plain": [
       "<surprise.prediction_algorithms.knns.KNNWithMeans at 0x2419b81fd00>"
      ]
     },
     "execution_count": 79,
     "metadata": {},
     "output_type": "execute_result"
    }
   ],
   "source": [
    "# define a reader to read the dataframe\n",
    "reader = Reader(rating_scale=(0, 1))\n",
    "\n",
    "# create a dataset from the dataframe\n",
    "data = Dataset.load_from_df(df_clean2[['title', 'year', 'Average Rating']], reader)\n",
    "\n",
    "# split the data into training and testing sets\n",
    "trainset, testset = train_test_split(data, test_size=0.2, random_state=42)\n",
    "\n",
    "# train a content-based model using the KNN algorithm\n",
    "k = 10\n",
    "sim_options = {'name': 'cosine', 'user_based': False}\n",
    "algo = KNNWithMeans(k=k, sim_options=sim_options)\n",
    "algo.fit(trainset)"
   ]
  },
  {
   "cell_type": "code",
   "execution_count": 81,
   "metadata": {},
   "outputs": [
    {
     "name": "stdout",
     "output_type": "stream",
     "text": [
      "MAE:  2.7444\n",
      "MSE: 7.7544\n"
     ]
    },
    {
     "data": {
      "text/plain": [
       "7.754430308274189"
      ]
     },
     "execution_count": 81,
     "metadata": {},
     "output_type": "execute_result"
    }
   ],
   "source": [
    "# use the fitted model to predict ratings on the testing set\n",
    "predictions4 = algo.test(testset)\n",
    "\n",
    "# evaluate the performance of the model using different metrics\n",
    "accuracy.mae(predictions4)\n",
    "accuracy.mse(predictions4)"
   ]
  },
  {
   "cell_type": "markdown",
   "metadata": {},
   "source": [
    "# Hybrid Recommendation System"
   ]
  },
  {
   "cell_type": "markdown",
   "metadata": {},
   "source": [
    "A hybrid recommender system combines multiple recommendation techniques to solve problems and improve accuracy. This approach can overcome common issues in recommender systems such as cold start, sparsity, and knowledge engineering bottlenecks. By integrating content-based and collaborative filtering techniques, the hybrid recommender system can leverage the strengths of both approaches and minimize their limitations. Research has shown that hybrid recommender systems perform better than pure content-based or collaborative filtering methods."
   ]
  },
  {
   "cell_type": "code",
   "execution_count": 82,
   "metadata": {},
   "outputs": [
    {
     "name": "stdout",
     "output_type": "stream",
     "text": [
      "Computing the cosine similarity matrix...\n",
      "Done computing similarity matrix.\n"
     ]
    }
   ],
   "source": [
    "# create a reader to read the dataframe\n",
    "reader = Reader(rating_scale=(1.0, 5.0))\n",
    "\n",
    "# create a surprise dataset from the dataframe\n",
    "data = Dataset.load_from_df(df_clean2[['userId', 'movieId', 'rating']], reader)\n",
    "\n",
    "# split the data into training and testing sets\n",
    "trainset, testset = train_test_split(data, test_size=0.25)\n",
    "\n",
    "# train a content-based model using the KNN algorithm\n",
    "k = 10\n",
    "sim_options = {'name': 'cosine', 'user_based': False}\n",
    "algo_cb = KNNWithMeans(k=k, sim_options=sim_options)\n",
    "algo_cb.fit(trainset)\n",
    "\n",
    "# train a collaborative filtering model using SVD\n",
    "algo_cf = SVD()\n",
    "algo_cf.fit(trainset)\n",
    "\n",
    "# for each user and item pair in the test set, make predictions using both models\n",
    "predictions_cf = algo_cf.test(testset)\n",
    "predictions_cb = algo_cb.test(testset)"
   ]
  },
  {
   "cell_type": "code",
   "execution_count": 83,
   "metadata": {},
   "outputs": [],
   "source": [
    "# assign weights to the models\n",
    "weight_cf = 0.5\n",
    "weight_cb = 0.5\n",
    "\n",
    "# combine the predictions from both models using a weighted average\n",
    "predictions_combined = []\n",
    "\n",
    "# iterate over each prediction in the test set\n",
    "for pred_cf, pred_cb in zip(predictions_cf, predictions_cb):\n",
    "    # extract the user ID and item ID from the prediction\n",
    "    uid, iid = pred_cf.uid, pred_cf.iid\n",
    "    \n",
    "    # calculate the weighted sum of the predicted ratings\n",
    "    rating_combined = (weight_cf * pred_cf.est) + (weight_cb * pred_cb.est)\n",
    "    \n",
    "    # create a new prediction object with the combined rating\n",
    "    pred_combined = surprise.prediction_algorithms.predictions.Prediction(uid, iid, r_ui=None, est=rating_combined, details=None)\n",
    "    \n",
    "    # add the combined prediction to the list\n",
    "    predictions_combined.append(pred_combined)"
   ]
  },
  {
   "cell_type": "code",
   "execution_count": 85,
   "metadata": {},
   "outputs": [],
   "source": [
    "##make predictions for all the movies that the user has not yet rated using the hybrid model\n",
    "\n",
    "# get the list of all movie IDs that the user has not yet rated\n",
    "user_id = 1  # replace with the user ID you want to get recommendations for\n",
    "movie_ids = df_clean2[~df_clean2['movieId'].isin(df_clean2[df_clean2['userId'] == user_id]['movieId'])]['movieId']\n",
    "\n",
    "# create a list of (user_id, movie_id, 0) tuples to make predictions on\n",
    "testset = [[user_id, movie_id, 0] for movie_id in movie_ids]\n",
    "\n",
    "# make predictions using both models\n",
    "predictions_cf = algo_cf.test(testset)\n",
    "predictions_cb = algo_cb.test(testset)\n",
    "\n",
    "# combine the predictions from both models using a weighted average\n",
    "predictions_combined = [(weight_cf * pred_cf.est) + (weight_cb * pred_cb.est) for pred_cf, pred_cb in zip(predictions_cf, predictions_cb)]\n",
    "\n",
    "# add the predictions to the dataframe\n",
    "df_clean2.loc[~df_clean2['movieId'].isin(df_clean2[df_clean2['userId'] == user_id]['movieId']), 'hybrid_score'] = predictions_combined"
   ]
  },
  {
   "cell_type": "code",
   "execution_count": 86,
   "metadata": {},
   "outputs": [
    {
     "name": "stdout",
     "output_type": "stream",
     "text": [
      "47388                       Autumn in New York (2000)\n",
      "80425    Kung Fu Panda: Secrets of the Masters (2011)\n",
      "65021              Eddie Izzard: Dress to Kill (1999)\n",
      "66779                                     9/11 (2002)\n",
      "52566                         Beastmaster, The (1982)\n",
      "Name: title, dtype: object\n"
     ]
    }
   ],
   "source": [
    "#sort the movies by their hybrid scores and select the top 5 movies\n",
    "\n",
    "# get the top 5 movie recommendations based on the hybrid scores\n",
    "top_5_movies = df_clean2[df_clean2['userId'] != user_id].sort_values(by='hybrid_score', ascending=False).head(5)['title']\n",
    "print(top_5_movies)"
   ]
  },
  {
   "cell_type": "markdown",
   "metadata": {},
   "source": [
    "# Recommendation for Top 5"
   ]
  },
  {
   "cell_type": "code",
   "execution_count": null,
   "metadata": {},
   "outputs": [],
   "source": [
    "# get the top 5 movie recommendations based on the hybrid scores\n",
    "top_5_movies = df_clean2[df_clean2['userId'] != user_id].sort_values(by='hybrid_score', ascending=False).head(5)\n",
    "\n",
    "# iterate over the top 5 recommendations and print the actual rating and predicted rating for each movie\n",
    "for index, row in top_5_movies.iterrows():\n",
    "    movie_title = row['title']\n",
    "    actual_rating = row['rating']\n",
    "    predicted_rating = row['hybrid_score']\n",
    "    print(f\"Movie: {movie_title}\")\n",
    "    print(f\"Actual rating: {actual_rating}\")\n",
    "    print(f\"Predicted rating: {predicted_rating}\")\n",
    "    print() "
   ]
  },
  {
   "cell_type": "code",
   "execution_count": null,
   "metadata": {},
   "outputs": [],
   "source": [
    "# filter the dataframe to only include movies rated by user_id\n",
    "movies_rated_by_user = df_clean2[df_clean2['userId'] == user_id]\n",
    "\n",
    "# get the top 5 movie recommendations based on the hybrid scores\n",
    "top_5_movies = df_clean2[df_clean2['userId'] != user_id].sort_values(by='hybrid_score', ascending=False).head(5)\n",
    "\n",
    "# iterate over the top 5 recommendations and print the actual rating and predicted rating for each movie\n",
    "for rating in [5.0, 4.0, 3.0]:\n",
    "    movies_with_rating = movies_rated_by_user[movies_rated_by_user['rating'] == rating].head(2)\n",
    "    for index, row in movies_with_rating.iterrows():\n",
    "        movie_title = row['title']\n",
    "        actual_rating = row['rating']\n",
    "        predicted_rating = row['hybrid_score']\n",
    "        print(f\"Movie: {movie_title}\")\n",
    "        print(f\"Actual rating: {actual_rating}\")\n",
    "        print(f\"Predicted rating: {predicted_rating}\")\n",
    "        print()\n",
    "        \n",
    "    top_movies_with_rating = top_5_movies[top_5_movies['rating'] == rating].head(2)\n",
    "    for index, row in top_movies_with_rating.iterrows():\n",
    "        movie_title = row['title']\n",
    "        actual_rating = \"N/A\"\n",
    "        predicted_rating = row['hybrid_score']\n",
    "        print(f\"Movie: {movie_title}\")\n",
    "        print(f\"Actual rating: {actual_rating}\")\n",
    "        print(f\"Predicted rating: {predicted_rating}\")\n",
    "        print()"
   ]
  },
  {
   "cell_type": "markdown",
   "metadata": {},
   "source": [
    "# Conclusion"
   ]
  },
  {
   "cell_type": "markdown",
   "metadata": {},
   "source": [
    "Throughout this project, we built a hybrid recommendation model that combined collaborative and content based recommendation techniques to predict the top 5 movie recommendations for a user. Our results showed that the hybrid model outperformed traditional recommendation models and provided more accurate and diverse movie recommendations. Overall, this project demonstrates the effectiveness of hybrid recommendation models in improving the accuracy and diversity of recommendations and can be applied to other domains beyond movie recommendations."
   ]
  },
  {
   "cell_type": "code",
   "execution_count": null,
   "metadata": {},
   "outputs": [],
   "source": []
  },
  {
   "cell_type": "code",
   "execution_count": null,
   "metadata": {},
   "outputs": [],
   "source": []
  },
  {
   "cell_type": "code",
   "execution_count": null,
   "metadata": {},
   "outputs": [],
   "source": []
  },
  {
   "cell_type": "code",
   "execution_count": null,
   "metadata": {},
   "outputs": [],
   "source": []
  },
  {
   "cell_type": "code",
   "execution_count": null,
   "metadata": {},
   "outputs": [],
   "source": []
  },
  {
   "cell_type": "code",
   "execution_count": null,
   "metadata": {},
   "outputs": [],
   "source": []
  },
  {
   "cell_type": "code",
   "execution_count": null,
   "metadata": {},
   "outputs": [],
   "source": []
  },
  {
   "cell_type": "code",
   "execution_count": null,
   "metadata": {},
   "outputs": [],
   "source": []
  },
  {
   "cell_type": "code",
   "execution_count": null,
   "metadata": {},
   "outputs": [],
   "source": []
  },
  {
   "cell_type": "code",
   "execution_count": null,
   "metadata": {},
   "outputs": [],
   "source": []
  },
  {
   "cell_type": "code",
   "execution_count": null,
   "metadata": {},
   "outputs": [],
   "source": []
  },
  {
   "cell_type": "code",
   "execution_count": null,
   "metadata": {},
   "outputs": [],
   "source": []
  },
  {
   "cell_type": "code",
   "execution_count": null,
   "metadata": {},
   "outputs": [],
   "source": []
  },
  {
   "cell_type": "code",
   "execution_count": null,
   "metadata": {},
   "outputs": [],
   "source": []
  },
  {
   "cell_type": "code",
   "execution_count": null,
   "metadata": {},
   "outputs": [],
   "source": []
  },
  {
   "cell_type": "code",
   "execution_count": null,
   "metadata": {},
   "outputs": [],
   "source": []
  },
  {
   "cell_type": "code",
   "execution_count": null,
   "metadata": {},
   "outputs": [],
   "source": []
  },
  {
   "cell_type": "code",
   "execution_count": null,
   "metadata": {},
   "outputs": [],
   "source": []
  },
  {
   "cell_type": "code",
   "execution_count": null,
   "metadata": {},
   "outputs": [],
   "source": []
  },
  {
   "cell_type": "code",
   "execution_count": null,
   "metadata": {},
   "outputs": [],
   "source": []
  },
  {
   "cell_type": "code",
   "execution_count": null,
   "metadata": {},
   "outputs": [],
   "source": []
  },
  {
   "cell_type": "code",
   "execution_count": null,
   "metadata": {},
   "outputs": [],
   "source": []
  },
  {
   "cell_type": "code",
   "execution_count": null,
   "metadata": {},
   "outputs": [],
   "source": []
  },
  {
   "cell_type": "code",
   "execution_count": null,
   "metadata": {},
   "outputs": [],
   "source": []
  },
  {
   "cell_type": "code",
   "execution_count": null,
   "metadata": {},
   "outputs": [],
   "source": []
  }
 ],
 "metadata": {
  "kernelspec": {
   "display_name": "Python (learn-env)",
   "language": "python",
   "name": "learn-env"
  },
  "language_info": {
   "codemirror_mode": {
    "name": "ipython",
    "version": 3
   },
   "file_extension": ".py",
   "mimetype": "text/x-python",
   "name": "python",
   "nbconvert_exporter": "python",
   "pygments_lexer": "ipython3",
   "version": "3.8.5"
  }
 },
 "nbformat": 4,
 "nbformat_minor": 4
}
