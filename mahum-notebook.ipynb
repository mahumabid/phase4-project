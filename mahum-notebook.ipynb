{
 "cells": [
  {
   "cell_type": "code",
   "execution_count": 1,
   "metadata": {},
   "outputs": [],
   "source": [
    "# Import all necessary packages\n",
    "import pandas as pd\n",
    "import matplotlib.pyplot as plt\n",
    "import seaborn as sns\n",
    "import surprise\n",
    "from surprise.prediction_algorithms import *\n",
    "from surprise import Dataset, Reader\n",
    "from surprise.model_selection import train_test_split\n",
    "import numpy as np\n",
    "import datetime as dt"
   ]
  },
  {
   "cell_type": "code",
   "execution_count": 2,
   "metadata": {},
   "outputs": [
    {
     "data": {
      "text/html": [
       "<div>\n",
       "<style scoped>\n",
       "    .dataframe tbody tr th:only-of-type {\n",
       "        vertical-align: middle;\n",
       "    }\n",
       "\n",
       "    .dataframe tbody tr th {\n",
       "        vertical-align: top;\n",
       "    }\n",
       "\n",
       "    .dataframe thead th {\n",
       "        text-align: right;\n",
       "    }\n",
       "</style>\n",
       "<table border=\"1\" class=\"dataframe\">\n",
       "  <thead>\n",
       "    <tr style=\"text-align: right;\">\n",
       "      <th></th>\n",
       "      <th>movieId</th>\n",
       "      <th>imdbId</th>\n",
       "      <th>tmdbId</th>\n",
       "    </tr>\n",
       "  </thead>\n",
       "  <tbody>\n",
       "    <tr>\n",
       "      <th>0</th>\n",
       "      <td>1</td>\n",
       "      <td>114709</td>\n",
       "      <td>862.0</td>\n",
       "    </tr>\n",
       "    <tr>\n",
       "      <th>1</th>\n",
       "      <td>2</td>\n",
       "      <td>113497</td>\n",
       "      <td>8844.0</td>\n",
       "    </tr>\n",
       "    <tr>\n",
       "      <th>2</th>\n",
       "      <td>3</td>\n",
       "      <td>113228</td>\n",
       "      <td>15602.0</td>\n",
       "    </tr>\n",
       "    <tr>\n",
       "      <th>3</th>\n",
       "      <td>4</td>\n",
       "      <td>114885</td>\n",
       "      <td>31357.0</td>\n",
       "    </tr>\n",
       "    <tr>\n",
       "      <th>4</th>\n",
       "      <td>5</td>\n",
       "      <td>113041</td>\n",
       "      <td>11862.0</td>\n",
       "    </tr>\n",
       "  </tbody>\n",
       "</table>\n",
       "</div>"
      ],
      "text/plain": [
       "   movieId  imdbId   tmdbId\n",
       "0        1  114709    862.0\n",
       "1        2  113497   8844.0\n",
       "2        3  113228  15602.0\n",
       "3        4  114885  31357.0\n",
       "4        5  113041  11862.0"
      ]
     },
     "execution_count": 2,
     "metadata": {},
     "output_type": "execute_result"
    }
   ],
   "source": [
    "# Read in the 'links.csv'.\n",
    "df_links = pd.read_csv(\"Data/links.csv\")\n",
    "df_links.head()"
   ]
  },
  {
   "cell_type": "code",
   "execution_count": 3,
   "metadata": {},
   "outputs": [
    {
     "name": "stdout",
     "output_type": "stream",
     "text": [
      "<class 'pandas.core.frame.DataFrame'>\n",
      "RangeIndex: 9742 entries, 0 to 9741\n",
      "Data columns (total 3 columns):\n",
      " #   Column   Non-Null Count  Dtype  \n",
      "---  ------   --------------  -----  \n",
      " 0   movieId  9742 non-null   int64  \n",
      " 1   imdbId   9742 non-null   int64  \n",
      " 2   tmdbId   9734 non-null   float64\n",
      "dtypes: float64(1), int64(2)\n",
      "memory usage: 228.5 KB\n"
     ]
    }
   ],
   "source": [
    "# Checking the data.\n",
    "df_links.info()"
   ]
  },
  {
   "cell_type": "code",
   "execution_count": 4,
   "metadata": {},
   "outputs": [
    {
     "data": {
      "text/plain": [
       "0"
      ]
     },
     "execution_count": 4,
     "metadata": {},
     "output_type": "execute_result"
    }
   ],
   "source": [
    "# Checking the movie ID column for duplicates.\n",
    "df_links['movieId'].duplicated().sum()"
   ]
  },
  {
   "cell_type": "markdown",
   "metadata": {},
   "source": [
    "# Movies.csv"
   ]
  },
  {
   "cell_type": "code",
   "execution_count": 5,
   "metadata": {},
   "outputs": [
    {
     "data": {
      "text/html": [
       "<div>\n",
       "<style scoped>\n",
       "    .dataframe tbody tr th:only-of-type {\n",
       "        vertical-align: middle;\n",
       "    }\n",
       "\n",
       "    .dataframe tbody tr th {\n",
       "        vertical-align: top;\n",
       "    }\n",
       "\n",
       "    .dataframe thead th {\n",
       "        text-align: right;\n",
       "    }\n",
       "</style>\n",
       "<table border=\"1\" class=\"dataframe\">\n",
       "  <thead>\n",
       "    <tr style=\"text-align: right;\">\n",
       "      <th></th>\n",
       "      <th>movieId</th>\n",
       "      <th>title</th>\n",
       "      <th>genres</th>\n",
       "    </tr>\n",
       "  </thead>\n",
       "  <tbody>\n",
       "    <tr>\n",
       "      <th>0</th>\n",
       "      <td>1</td>\n",
       "      <td>Toy Story (1995)</td>\n",
       "      <td>Adventure|Animation|Children|Comedy|Fantasy</td>\n",
       "    </tr>\n",
       "    <tr>\n",
       "      <th>1</th>\n",
       "      <td>2</td>\n",
       "      <td>Jumanji (1995)</td>\n",
       "      <td>Adventure|Children|Fantasy</td>\n",
       "    </tr>\n",
       "    <tr>\n",
       "      <th>2</th>\n",
       "      <td>3</td>\n",
       "      <td>Grumpier Old Men (1995)</td>\n",
       "      <td>Comedy|Romance</td>\n",
       "    </tr>\n",
       "    <tr>\n",
       "      <th>3</th>\n",
       "      <td>4</td>\n",
       "      <td>Waiting to Exhale (1995)</td>\n",
       "      <td>Comedy|Drama|Romance</td>\n",
       "    </tr>\n",
       "    <tr>\n",
       "      <th>4</th>\n",
       "      <td>5</td>\n",
       "      <td>Father of the Bride Part II (1995)</td>\n",
       "      <td>Comedy</td>\n",
       "    </tr>\n",
       "  </tbody>\n",
       "</table>\n",
       "</div>"
      ],
      "text/plain": [
       "   movieId                               title  \\\n",
       "0        1                    Toy Story (1995)   \n",
       "1        2                      Jumanji (1995)   \n",
       "2        3             Grumpier Old Men (1995)   \n",
       "3        4            Waiting to Exhale (1995)   \n",
       "4        5  Father of the Bride Part II (1995)   \n",
       "\n",
       "                                        genres  \n",
       "0  Adventure|Animation|Children|Comedy|Fantasy  \n",
       "1                   Adventure|Children|Fantasy  \n",
       "2                               Comedy|Romance  \n",
       "3                         Comedy|Drama|Romance  \n",
       "4                                       Comedy  "
      ]
     },
     "execution_count": 5,
     "metadata": {},
     "output_type": "execute_result"
    }
   ],
   "source": [
    "# Read in the 'movies.csv'.\n",
    "df_movies = pd.read_csv(\"Data/movies.csv\")\n",
    "df_movies.head()"
   ]
  },
  {
   "cell_type": "code",
   "execution_count": 6,
   "metadata": {},
   "outputs": [
    {
     "name": "stdout",
     "output_type": "stream",
     "text": [
      "<class 'pandas.core.frame.DataFrame'>\n",
      "RangeIndex: 9742 entries, 0 to 9741\n",
      "Data columns (total 3 columns):\n",
      " #   Column   Non-Null Count  Dtype \n",
      "---  ------   --------------  ----- \n",
      " 0   movieId  9742 non-null   int64 \n",
      " 1   title    9742 non-null   object\n",
      " 2   genres   9742 non-null   object\n",
      "dtypes: int64(1), object(2)\n",
      "memory usage: 228.5+ KB\n"
     ]
    }
   ],
   "source": [
    "# Checking the data.\n",
    "df_movies.info()"
   ]
  },
  {
   "cell_type": "code",
   "execution_count": 7,
   "metadata": {},
   "outputs": [
    {
     "data": {
      "text/plain": [
       "0"
      ]
     },
     "execution_count": 7,
     "metadata": {},
     "output_type": "execute_result"
    }
   ],
   "source": [
    "# Checking the movie ID column for duplicates.\n",
    "df_movies['movieId'].duplicated().sum()"
   ]
  },
  {
   "cell_type": "markdown",
   "metadata": {},
   "source": [
    "# Rating.csv"
   ]
  },
  {
   "cell_type": "code",
   "execution_count": 8,
   "metadata": {},
   "outputs": [
    {
     "data": {
      "text/html": [
       "<div>\n",
       "<style scoped>\n",
       "    .dataframe tbody tr th:only-of-type {\n",
       "        vertical-align: middle;\n",
       "    }\n",
       "\n",
       "    .dataframe tbody tr th {\n",
       "        vertical-align: top;\n",
       "    }\n",
       "\n",
       "    .dataframe thead th {\n",
       "        text-align: right;\n",
       "    }\n",
       "</style>\n",
       "<table border=\"1\" class=\"dataframe\">\n",
       "  <thead>\n",
       "    <tr style=\"text-align: right;\">\n",
       "      <th></th>\n",
       "      <th>userId</th>\n",
       "      <th>movieId</th>\n",
       "      <th>rating</th>\n",
       "      <th>timestamp</th>\n",
       "    </tr>\n",
       "  </thead>\n",
       "  <tbody>\n",
       "    <tr>\n",
       "      <th>0</th>\n",
       "      <td>1</td>\n",
       "      <td>1</td>\n",
       "      <td>4.0</td>\n",
       "      <td>964982703</td>\n",
       "    </tr>\n",
       "    <tr>\n",
       "      <th>1</th>\n",
       "      <td>1</td>\n",
       "      <td>3</td>\n",
       "      <td>4.0</td>\n",
       "      <td>964981247</td>\n",
       "    </tr>\n",
       "    <tr>\n",
       "      <th>2</th>\n",
       "      <td>1</td>\n",
       "      <td>6</td>\n",
       "      <td>4.0</td>\n",
       "      <td>964982224</td>\n",
       "    </tr>\n",
       "    <tr>\n",
       "      <th>3</th>\n",
       "      <td>1</td>\n",
       "      <td>47</td>\n",
       "      <td>5.0</td>\n",
       "      <td>964983815</td>\n",
       "    </tr>\n",
       "    <tr>\n",
       "      <th>4</th>\n",
       "      <td>1</td>\n",
       "      <td>50</td>\n",
       "      <td>5.0</td>\n",
       "      <td>964982931</td>\n",
       "    </tr>\n",
       "  </tbody>\n",
       "</table>\n",
       "</div>"
      ],
      "text/plain": [
       "   userId  movieId  rating  timestamp\n",
       "0       1        1     4.0  964982703\n",
       "1       1        3     4.0  964981247\n",
       "2       1        6     4.0  964982224\n",
       "3       1       47     5.0  964983815\n",
       "4       1       50     5.0  964982931"
      ]
     },
     "execution_count": 8,
     "metadata": {},
     "output_type": "execute_result"
    }
   ],
   "source": [
    "# Read in the 'ratings.csv'.\n",
    "df_ratings = pd.read_csv(\"Data/ratings.csv\")\n",
    "df_ratings.head()"
   ]
  },
  {
   "cell_type": "code",
   "execution_count": 9,
   "metadata": {},
   "outputs": [
    {
     "name": "stdout",
     "output_type": "stream",
     "text": [
      "<class 'pandas.core.frame.DataFrame'>\n",
      "RangeIndex: 100836 entries, 0 to 100835\n",
      "Data columns (total 4 columns):\n",
      " #   Column     Non-Null Count   Dtype  \n",
      "---  ------     --------------   -----  \n",
      " 0   userId     100836 non-null  int64  \n",
      " 1   movieId    100836 non-null  int64  \n",
      " 2   rating     100836 non-null  float64\n",
      " 3   timestamp  100836 non-null  int64  \n",
      "dtypes: float64(1), int64(3)\n",
      "memory usage: 3.1 MB\n"
     ]
    }
   ],
   "source": [
    "# Checking the data\n",
    "df_ratings.info()"
   ]
  },
  {
   "cell_type": "code",
   "execution_count": 10,
   "metadata": {},
   "outputs": [
    {
     "data": {
      "text/plain": [
       "91112"
      ]
     },
     "execution_count": 10,
     "metadata": {},
     "output_type": "execute_result"
    }
   ],
   "source": [
    "# Checking the movie ID column for duplicates.\n",
    "df_ratings['movieId'].duplicated().sum()"
   ]
  },
  {
   "cell_type": "code",
   "execution_count": 11,
   "metadata": {},
   "outputs": [
    {
     "data": {
      "text/plain": [
       "0           1\n",
       "1           1\n",
       "2           1\n",
       "3           1\n",
       "4           1\n",
       "         ... \n",
       "100831    610\n",
       "100832    610\n",
       "100833    610\n",
       "100834    610\n",
       "100835    610\n",
       "Name: userId, Length: 100836, dtype: int64"
      ]
     },
     "execution_count": 11,
     "metadata": {},
     "output_type": "execute_result"
    }
   ],
   "source": [
    "# Checking the number of user ID's\n",
    "df_ratings['userId']"
   ]
  },
  {
   "cell_type": "code",
   "execution_count": 12,
   "metadata": {},
   "outputs": [
    {
     "name": "stdout",
     "output_type": "stream",
     "text": [
      "610\n"
     ]
    }
   ],
   "source": [
    "# Double checking user ID's by counting the amount of users.\n",
    "print(len(df_ratings['userId'].value_counts() > 1))"
   ]
  },
  {
   "cell_type": "code",
   "execution_count": 13,
   "metadata": {},
   "outputs": [
    {
     "name": "stdout",
     "output_type": "stream",
     "text": [
      "4.0    26818\n",
      "3.0    20047\n",
      "5.0    13211\n",
      "3.5    13136\n",
      "4.5     8551\n",
      "2.0     7551\n",
      "2.5     5550\n",
      "1.0     2811\n",
      "1.5     1791\n",
      "0.5     1370\n",
      "Name: rating, dtype: int64\n"
     ]
    }
   ],
   "source": [
    "# Looking at the denomination breakdown of ratings.\n",
    "print((df_ratings['rating'].value_counts()))"
   ]
  },
  {
   "cell_type": "markdown",
   "metadata": {},
   "source": [
    "# Tags.csv"
   ]
  },
  {
   "cell_type": "code",
   "execution_count": 14,
   "metadata": {},
   "outputs": [
    {
     "data": {
      "text/html": [
       "<div>\n",
       "<style scoped>\n",
       "    .dataframe tbody tr th:only-of-type {\n",
       "        vertical-align: middle;\n",
       "    }\n",
       "\n",
       "    .dataframe tbody tr th {\n",
       "        vertical-align: top;\n",
       "    }\n",
       "\n",
       "    .dataframe thead th {\n",
       "        text-align: right;\n",
       "    }\n",
       "</style>\n",
       "<table border=\"1\" class=\"dataframe\">\n",
       "  <thead>\n",
       "    <tr style=\"text-align: right;\">\n",
       "      <th></th>\n",
       "      <th>userId</th>\n",
       "      <th>movieId</th>\n",
       "      <th>tag</th>\n",
       "      <th>timestamp</th>\n",
       "    </tr>\n",
       "  </thead>\n",
       "  <tbody>\n",
       "    <tr>\n",
       "      <th>0</th>\n",
       "      <td>2</td>\n",
       "      <td>60756</td>\n",
       "      <td>funny</td>\n",
       "      <td>1445714994</td>\n",
       "    </tr>\n",
       "    <tr>\n",
       "      <th>1</th>\n",
       "      <td>2</td>\n",
       "      <td>60756</td>\n",
       "      <td>Highly quotable</td>\n",
       "      <td>1445714996</td>\n",
       "    </tr>\n",
       "    <tr>\n",
       "      <th>2</th>\n",
       "      <td>2</td>\n",
       "      <td>60756</td>\n",
       "      <td>will ferrell</td>\n",
       "      <td>1445714992</td>\n",
       "    </tr>\n",
       "    <tr>\n",
       "      <th>3</th>\n",
       "      <td>2</td>\n",
       "      <td>89774</td>\n",
       "      <td>Boxing story</td>\n",
       "      <td>1445715207</td>\n",
       "    </tr>\n",
       "    <tr>\n",
       "      <th>4</th>\n",
       "      <td>2</td>\n",
       "      <td>89774</td>\n",
       "      <td>MMA</td>\n",
       "      <td>1445715200</td>\n",
       "    </tr>\n",
       "  </tbody>\n",
       "</table>\n",
       "</div>"
      ],
      "text/plain": [
       "   userId  movieId              tag   timestamp\n",
       "0       2    60756            funny  1445714994\n",
       "1       2    60756  Highly quotable  1445714996\n",
       "2       2    60756     will ferrell  1445714992\n",
       "3       2    89774     Boxing story  1445715207\n",
       "4       2    89774              MMA  1445715200"
      ]
     },
     "execution_count": 14,
     "metadata": {},
     "output_type": "execute_result"
    }
   ],
   "source": [
    "# Read in 'tags.csv'.\n",
    "df_tags = pd.read_csv(\"Data/tags.csv\")\n",
    "df_tags.head()\n"
   ]
  },
  {
   "cell_type": "code",
   "execution_count": 15,
   "metadata": {},
   "outputs": [
    {
     "name": "stdout",
     "output_type": "stream",
     "text": [
      "<class 'pandas.core.frame.DataFrame'>\n",
      "RangeIndex: 3683 entries, 0 to 3682\n",
      "Data columns (total 4 columns):\n",
      " #   Column     Non-Null Count  Dtype \n",
      "---  ------     --------------  ----- \n",
      " 0   userId     3683 non-null   int64 \n",
      " 1   movieId    3683 non-null   int64 \n",
      " 2   tag        3683 non-null   object\n",
      " 3   timestamp  3683 non-null   int64 \n",
      "dtypes: int64(3), object(1)\n",
      "memory usage: 115.2+ KB\n"
     ]
    }
   ],
   "source": [
    "# Checking the tags data.\n",
    "df_tags.info()"
   ]
  },
  {
   "cell_type": "code",
   "execution_count": 16,
   "metadata": {},
   "outputs": [
    {
     "data": {
      "text/plain": [
       "2111"
      ]
     },
     "execution_count": 16,
     "metadata": {},
     "output_type": "execute_result"
    }
   ],
   "source": [
    "# Checking the movie ID column for duplicates.\n",
    "df_tags['movieId'].duplicated().sum()"
   ]
  },
  {
   "cell_type": "code",
   "execution_count": 17,
   "metadata": {},
   "outputs": [
    {
     "name": "stdout",
     "output_type": "stream",
     "text": [
      "1572\n"
     ]
    }
   ],
   "source": [
    "# Checking how many moveId's have a value count equal to 1.\n",
    "df_tagid = df_tags['movieId']\n",
    "df_tagid = df_tagid.to_frame()\n",
    "print(len(df_tagid['movieId'].value_counts()==1))\n"
   ]
  },
  {
   "cell_type": "code",
   "execution_count": 18,
   "metadata": {},
   "outputs": [
    {
     "name": "stdout",
     "output_type": "stream",
     "text": [
      "58\n"
     ]
    }
   ],
   "source": [
    "# Counting the number of userId's\n",
    "print(len(df_tags['userId'].value_counts() > 1))"
   ]
  },
  {
   "cell_type": "markdown",
   "metadata": {},
   "source": [
    "# Merging Dataframes"
   ]
  },
  {
   "cell_type": "code",
   "execution_count": 19,
   "metadata": {},
   "outputs": [
    {
     "name": "stdout",
     "output_type": "stream",
     "text": [
      "<class 'pandas.core.frame.DataFrame'>\n",
      "Int64Index: 9734 entries, 0 to 9741\n",
      "Data columns (total 5 columns):\n",
      " #   Column   Non-Null Count  Dtype  \n",
      "---  ------   --------------  -----  \n",
      " 0   movieId  9734 non-null   int64  \n",
      " 1   imdbId   9734 non-null   int64  \n",
      " 2   tmdbId   9734 non-null   float64\n",
      " 3   title    9734 non-null   object \n",
      " 4   genres   9734 non-null   object \n",
      "dtypes: float64(1), int64(2), object(2)\n",
      "memory usage: 456.3+ KB\n"
     ]
    }
   ],
   "source": [
    "# Merge 'links' and 'movie' dataframes together and check new dataframe.\n",
    "movies_df = df_links.merge(df_movies, on='movieId')\n",
    "movies_df = movies_df.dropna()\n",
    "movies_df.info()"
   ]
  },
  {
   "cell_type": "code",
   "execution_count": 20,
   "metadata": {},
   "outputs": [
    {
     "data": {
      "text/plain": [
       "0"
      ]
     },
     "execution_count": 20,
     "metadata": {},
     "output_type": "execute_result"
    }
   ],
   "source": [
    "# Check to see if there are any movieId duplicates.\n",
    "movies_df['movieId'].duplicated().sum()"
   ]
  },
  {
   "cell_type": "code",
   "execution_count": 21,
   "metadata": {},
   "outputs": [
    {
     "name": "stdout",
     "output_type": "stream",
     "text": [
      "<class 'pandas.core.frame.DataFrame'>\n",
      "Int64Index: 100823 entries, 0 to 100822\n",
      "Data columns (total 8 columns):\n",
      " #   Column     Non-Null Count   Dtype  \n",
      "---  ------     --------------   -----  \n",
      " 0   movieId    100823 non-null  int64  \n",
      " 1   imdbId     100823 non-null  int64  \n",
      " 2   tmdbId     100823 non-null  float64\n",
      " 3   title      100823 non-null  object \n",
      " 4   genres     100823 non-null  object \n",
      " 5   userId     100823 non-null  int64  \n",
      " 6   rating     100823 non-null  float64\n",
      " 7   timestamp  100823 non-null  int64  \n",
      "dtypes: float64(2), int64(4), object(2)\n",
      "memory usage: 6.9+ MB\n"
     ]
    }
   ],
   "source": [
    "# Merge new dataframe with the 'ratings.csv'\n",
    "movie_df = movies_df.merge(df_ratings, on='movieId')\n",
    "movie_df.info()\n"
   ]
  },
  {
   "cell_type": "code",
   "execution_count": 22,
   "metadata": {},
   "outputs": [
    {
     "data": {
      "text/plain": [
       "91107"
      ]
     },
     "execution_count": 22,
     "metadata": {},
     "output_type": "execute_result"
    }
   ],
   "source": [
    "# Checking to see how many movieIds are duplicated\n",
    "movie_df['movieId'].duplicated().sum()\n"
   ]
  },
  {
   "cell_type": "code",
   "execution_count": 23,
   "metadata": {},
   "outputs": [
    {
     "name": "stdout",
     "output_type": "stream",
     "text": [
      "In this merged dataset we have 9716 individual movie titles.\n"
     ]
    }
   ],
   "source": [
    "print(\"In this merged dataset we have\", len(movie_df['movieId']) - movie_df['movieId'].duplicated().sum(), \"individual movie titles.\")"
   ]
  },
  {
   "cell_type": "code",
   "execution_count": 24,
   "metadata": {},
   "outputs": [
    {
     "data": {
      "text/html": [
       "<div>\n",
       "<style scoped>\n",
       "    .dataframe tbody tr th:only-of-type {\n",
       "        vertical-align: middle;\n",
       "    }\n",
       "\n",
       "    .dataframe tbody tr th {\n",
       "        vertical-align: top;\n",
       "    }\n",
       "\n",
       "    .dataframe thead th {\n",
       "        text-align: right;\n",
       "    }\n",
       "</style>\n",
       "<table border=\"1\" class=\"dataframe\">\n",
       "  <thead>\n",
       "    <tr style=\"text-align: right;\">\n",
       "      <th></th>\n",
       "      <th>movieId</th>\n",
       "      <th>imdbId</th>\n",
       "      <th>tmdbId</th>\n",
       "      <th>userId</th>\n",
       "      <th>rating</th>\n",
       "      <th>timestamp</th>\n",
       "    </tr>\n",
       "  </thead>\n",
       "  <tbody>\n",
       "    <tr>\n",
       "      <th>count</th>\n",
       "      <td>100823.000000</td>\n",
       "      <td>1.008230e+05</td>\n",
       "      <td>100823.000000</td>\n",
       "      <td>100823.000000</td>\n",
       "      <td>100823.000000</td>\n",
       "      <td>1.008230e+05</td>\n",
       "    </tr>\n",
       "    <tr>\n",
       "      <th>mean</th>\n",
       "      <td>19435.437737</td>\n",
       "      <td>3.515704e+05</td>\n",
       "      <td>20105.462633</td>\n",
       "      <td>326.130823</td>\n",
       "      <td>3.501637</td>\n",
       "      <td>1.205945e+09</td>\n",
       "    </tr>\n",
       "    <tr>\n",
       "      <th>std</th>\n",
       "      <td>35532.291269</td>\n",
       "      <td>6.220922e+05</td>\n",
       "      <td>53274.143620</td>\n",
       "      <td>182.618176</td>\n",
       "      <td>1.042430</td>\n",
       "      <td>2.162613e+08</td>\n",
       "    </tr>\n",
       "    <tr>\n",
       "      <th>min</th>\n",
       "      <td>1.000000</td>\n",
       "      <td>4.170000e+02</td>\n",
       "      <td>2.000000</td>\n",
       "      <td>1.000000</td>\n",
       "      <td>0.500000</td>\n",
       "      <td>8.281246e+08</td>\n",
       "    </tr>\n",
       "    <tr>\n",
       "      <th>25%</th>\n",
       "      <td>1199.000000</td>\n",
       "      <td>9.968500e+04</td>\n",
       "      <td>712.000000</td>\n",
       "      <td>177.000000</td>\n",
       "      <td>3.000000</td>\n",
       "      <td>1.019124e+09</td>\n",
       "    </tr>\n",
       "    <tr>\n",
       "      <th>50%</th>\n",
       "      <td>2991.000000</td>\n",
       "      <td>1.187710e+05</td>\n",
       "      <td>6957.000000</td>\n",
       "      <td>325.000000</td>\n",
       "      <td>3.500000</td>\n",
       "      <td>1.186087e+09</td>\n",
       "    </tr>\n",
       "    <tr>\n",
       "      <th>75%</th>\n",
       "      <td>8120.000000</td>\n",
       "      <td>3.149790e+05</td>\n",
       "      <td>11635.000000</td>\n",
       "      <td>477.000000</td>\n",
       "      <td>4.000000</td>\n",
       "      <td>1.435994e+09</td>\n",
       "    </tr>\n",
       "    <tr>\n",
       "      <th>max</th>\n",
       "      <td>193609.000000</td>\n",
       "      <td>8.391976e+06</td>\n",
       "      <td>525662.000000</td>\n",
       "      <td>610.000000</td>\n",
       "      <td>5.000000</td>\n",
       "      <td>1.537799e+09</td>\n",
       "    </tr>\n",
       "  </tbody>\n",
       "</table>\n",
       "</div>"
      ],
      "text/plain": [
       "             movieId        imdbId         tmdbId         userId  \\\n",
       "count  100823.000000  1.008230e+05  100823.000000  100823.000000   \n",
       "mean    19435.437737  3.515704e+05   20105.462633     326.130823   \n",
       "std     35532.291269  6.220922e+05   53274.143620     182.618176   \n",
       "min         1.000000  4.170000e+02       2.000000       1.000000   \n",
       "25%      1199.000000  9.968500e+04     712.000000     177.000000   \n",
       "50%      2991.000000  1.187710e+05    6957.000000     325.000000   \n",
       "75%      8120.000000  3.149790e+05   11635.000000     477.000000   \n",
       "max    193609.000000  8.391976e+06  525662.000000     610.000000   \n",
       "\n",
       "              rating     timestamp  \n",
       "count  100823.000000  1.008230e+05  \n",
       "mean        3.501637  1.205945e+09  \n",
       "std         1.042430  2.162613e+08  \n",
       "min         0.500000  8.281246e+08  \n",
       "25%         3.000000  1.019124e+09  \n",
       "50%         3.500000  1.186087e+09  \n",
       "75%         4.000000  1.435994e+09  \n",
       "max         5.000000  1.537799e+09  "
      ]
     },
     "execution_count": 24,
     "metadata": {},
     "output_type": "execute_result"
    }
   ],
   "source": [
    "movie_df.describe()"
   ]
  },
  {
   "cell_type": "code",
   "execution_count": 25,
   "metadata": {},
   "outputs": [],
   "source": [
    "# We are dropping the 'imdbId' and 'tmdbId' columns because they point to information \n",
    "# we do not have access to.\n",
    "df_cleaned = movie_df.drop(columns= ['imdbId', 'tmdbId'], axis=1)\n"
   ]
  },
  {
   "cell_type": "code",
   "execution_count": 26,
   "metadata": {},
   "outputs": [
    {
     "name": "stdout",
     "output_type": "stream",
     "text": [
      "<class 'pandas.core.frame.DataFrame'>\n",
      "Int64Index: 100823 entries, 0 to 100822\n",
      "Data columns (total 6 columns):\n",
      " #   Column     Non-Null Count   Dtype  \n",
      "---  ------     --------------   -----  \n",
      " 0   movieId    100823 non-null  int64  \n",
      " 1   title      100823 non-null  object \n",
      " 2   genres     100823 non-null  object \n",
      " 3   userId     100823 non-null  int64  \n",
      " 4   rating     100823 non-null  float64\n",
      " 5   timestamp  100823 non-null  int64  \n",
      "dtypes: float64(1), int64(3), object(2)\n",
      "memory usage: 5.4+ MB\n"
     ]
    }
   ],
   "source": [
    "# Checking the new dataframe.\n",
    "df_cleaned.info()\n"
   ]
  },
  {
   "cell_type": "code",
   "execution_count": 27,
   "metadata": {},
   "outputs": [
    {
     "data": {
      "text/plain": [
       "Comedy                                     7194\n",
       "Drama                                      6290\n",
       "Comedy|Romance                             3967\n",
       "Comedy|Drama|Romance                       3000\n",
       "Comedy|Drama                               2851\n",
       "                                           ... \n",
       "Documentary|Fantasy                           1\n",
       "Action|Horror|Mystery|Sci-Fi                  1\n",
       "Comedy|Documentary|Romance                    1\n",
       "Comedy|Drama|Sci-Fi|War                       1\n",
       "Animation|Children|Comedy|Drama|Romance       1\n",
       "Name: genres, Length: 951, dtype: int64"
      ]
     },
     "execution_count": 27,
     "metadata": {},
     "output_type": "execute_result"
    }
   ],
   "source": [
    "# Checking the value counts for different genre combinations.\n",
    "df_cleaned['genres'].value_counts()\n"
   ]
  },
  {
   "cell_type": "markdown",
   "metadata": {},
   "source": [
    "# Filtering by rating to recommend movie with a rating of 3.0 and above"
   ]
  },
  {
   "cell_type": "code",
   "execution_count": 28,
   "metadata": {},
   "outputs": [
    {
     "name": "stdout",
     "output_type": "stream",
     "text": [
      "<class 'pandas.core.frame.DataFrame'>\n",
      "Int64Index: 81754 entries, 0 to 100822\n",
      "Data columns (total 6 columns):\n",
      " #   Column     Non-Null Count  Dtype  \n",
      "---  ------     --------------  -----  \n",
      " 0   movieId    81754 non-null  int64  \n",
      " 1   title      81754 non-null  object \n",
      " 2   genres     81754 non-null  object \n",
      " 3   userId     81754 non-null  int64  \n",
      " 4   rating     81754 non-null  float64\n",
      " 5   timestamp  81754 non-null  int64  \n",
      "dtypes: float64(1), int64(3), object(2)\n",
      "memory usage: 4.4+ MB\n"
     ]
    }
   ],
   "source": [
    "# df_clean will only contain ratings 3.0 and greater.\n",
    "df_clean = df_cleaned[df_cleaned['rating'] >= 3.0]\n",
    "\n",
    "df_clean.info()"
   ]
  },
  {
   "cell_type": "code",
   "execution_count": 29,
   "metadata": {},
   "outputs": [
    {
     "data": {
      "text/html": [
       "<div>\n",
       "<style scoped>\n",
       "    .dataframe tbody tr th:only-of-type {\n",
       "        vertical-align: middle;\n",
       "    }\n",
       "\n",
       "    .dataframe tbody tr th {\n",
       "        vertical-align: top;\n",
       "    }\n",
       "\n",
       "    .dataframe thead th {\n",
       "        text-align: right;\n",
       "    }\n",
       "</style>\n",
       "<table border=\"1\" class=\"dataframe\">\n",
       "  <thead>\n",
       "    <tr style=\"text-align: right;\">\n",
       "      <th></th>\n",
       "      <th>title</th>\n",
       "      <th>Average Rating</th>\n",
       "    </tr>\n",
       "  </thead>\n",
       "  <tbody>\n",
       "    <tr>\n",
       "      <th>0</th>\n",
       "      <td>American Friend, The (Amerikanische Freund, De...</td>\n",
       "      <td>5.0</td>\n",
       "    </tr>\n",
       "    <tr>\n",
       "      <th>1</th>\n",
       "      <td>Four Days in September (O Que É Isso, Companhe...</td>\n",
       "      <td>5.0</td>\n",
       "    </tr>\n",
       "  </tbody>\n",
       "</table>\n",
       "</div>"
      ],
      "text/plain": [
       "                                               title  Average Rating\n",
       "0  American Friend, The (Amerikanische Freund, De...             5.0\n",
       "1  Four Days in September (O Que É Isso, Companhe...             5.0"
      ]
     },
     "execution_count": 29,
     "metadata": {},
     "output_type": "execute_result"
    }
   ],
   "source": [
    "# Movies with the highest average rating into separate df.\n",
    "avg_high_rated = df_clean.groupby(['title']).agg({\"rating\":\"mean\"})['rating'].sort_values(ascending=False)\n",
    "avg_high_rated = avg_high_rated.to_frame()\n",
    "avg_high_rated.reset_index(level=0, inplace=True)\n",
    "avg_high_rated.columns = ['title', 'Average Rating']\n",
    "avg_high_rated.head(2)\n"
   ]
  },
  {
   "cell_type": "code",
   "execution_count": 30,
   "metadata": {},
   "outputs": [
    {
     "data": {
      "text/html": [
       "<div>\n",
       "<style scoped>\n",
       "    .dataframe tbody tr th:only-of-type {\n",
       "        vertical-align: middle;\n",
       "    }\n",
       "\n",
       "    .dataframe tbody tr th {\n",
       "        vertical-align: top;\n",
       "    }\n",
       "\n",
       "    .dataframe thead th {\n",
       "        text-align: right;\n",
       "    }\n",
       "</style>\n",
       "<table border=\"1\" class=\"dataframe\">\n",
       "  <thead>\n",
       "    <tr style=\"text-align: right;\">\n",
       "      <th></th>\n",
       "      <th>movieId</th>\n",
       "      <th>title</th>\n",
       "      <th>genres</th>\n",
       "      <th>userId</th>\n",
       "      <th>rating</th>\n",
       "      <th>timestamp</th>\n",
       "      <th>Animation</th>\n",
       "      <th>Children</th>\n",
       "      <th>Fantasy</th>\n",
       "      <th>Adventure</th>\n",
       "      <th>...</th>\n",
       "      <th>Horror</th>\n",
       "      <th>Mystery</th>\n",
       "      <th>Sci-Fi</th>\n",
       "      <th>War</th>\n",
       "      <th>Musical</th>\n",
       "      <th>Documentary</th>\n",
       "      <th>IMAX</th>\n",
       "      <th>Western</th>\n",
       "      <th>Film-Noir</th>\n",
       "      <th>(no genres listed)</th>\n",
       "    </tr>\n",
       "  </thead>\n",
       "  <tbody>\n",
       "    <tr>\n",
       "      <th>0</th>\n",
       "      <td>1</td>\n",
       "      <td>Toy Story (1995)</td>\n",
       "      <td>Adventure|Animation|Children|Comedy|Fantasy</td>\n",
       "      <td>1</td>\n",
       "      <td>4.0</td>\n",
       "      <td>964982703</td>\n",
       "      <td>1.0</td>\n",
       "      <td>1.0</td>\n",
       "      <td>1.0</td>\n",
       "      <td>1.0</td>\n",
       "      <td>...</td>\n",
       "      <td>0.0</td>\n",
       "      <td>0.0</td>\n",
       "      <td>0.0</td>\n",
       "      <td>0.0</td>\n",
       "      <td>0.0</td>\n",
       "      <td>0.0</td>\n",
       "      <td>0.0</td>\n",
       "      <td>0.0</td>\n",
       "      <td>0.0</td>\n",
       "      <td>0.0</td>\n",
       "    </tr>\n",
       "    <tr>\n",
       "      <th>1</th>\n",
       "      <td>1</td>\n",
       "      <td>Toy Story (1995)</td>\n",
       "      <td>Adventure|Animation|Children|Comedy|Fantasy</td>\n",
       "      <td>5</td>\n",
       "      <td>4.0</td>\n",
       "      <td>847434962</td>\n",
       "      <td>1.0</td>\n",
       "      <td>1.0</td>\n",
       "      <td>1.0</td>\n",
       "      <td>1.0</td>\n",
       "      <td>...</td>\n",
       "      <td>0.0</td>\n",
       "      <td>0.0</td>\n",
       "      <td>0.0</td>\n",
       "      <td>0.0</td>\n",
       "      <td>0.0</td>\n",
       "      <td>0.0</td>\n",
       "      <td>0.0</td>\n",
       "      <td>0.0</td>\n",
       "      <td>0.0</td>\n",
       "      <td>0.0</td>\n",
       "    </tr>\n",
       "  </tbody>\n",
       "</table>\n",
       "<p>2 rows × 26 columns</p>\n",
       "</div>"
      ],
      "text/plain": [
       "   movieId             title                                       genres  \\\n",
       "0        1  Toy Story (1995)  Adventure|Animation|Children|Comedy|Fantasy   \n",
       "1        1  Toy Story (1995)  Adventure|Animation|Children|Comedy|Fantasy   \n",
       "\n",
       "   userId  rating  timestamp  Animation  Children  Fantasy  Adventure  ...  \\\n",
       "0       1     4.0  964982703        1.0       1.0      1.0        1.0  ...   \n",
       "1       5     4.0  847434962        1.0       1.0      1.0        1.0  ...   \n",
       "\n",
       "   Horror  Mystery  Sci-Fi  War  Musical  Documentary  IMAX  Western  \\\n",
       "0     0.0      0.0     0.0  0.0      0.0          0.0   0.0      0.0   \n",
       "1     0.0      0.0     0.0  0.0      0.0          0.0   0.0      0.0   \n",
       "\n",
       "   Film-Noir  (no genres listed)  \n",
       "0        0.0                 0.0  \n",
       "1        0.0                 0.0  \n",
       "\n",
       "[2 rows x 26 columns]"
      ]
     },
     "execution_count": 30,
     "metadata": {},
     "output_type": "execute_result"
    }
   ],
   "source": [
    "# Split the genres into separate columns with a binary result.\n",
    "genres_split = df_clean.genres.apply(lambda x: x.split(sep='|')).apply(pd.value_counts, 1).fillna(0)\n",
    "df_clean = pd.concat([df_clean.iloc[:,:], genres_split], axis=1)\n",
    "df_clean.head(2)\n"
   ]
  },
  {
   "cell_type": "code",
   "execution_count": 31,
   "metadata": {},
   "outputs": [
    {
     "data": {
      "text/plain": [
       "35.0"
      ]
     },
     "execution_count": 31,
     "metadata": {},
     "output_type": "execute_result"
    }
   ],
   "source": [
    "df_clean['(no genres listed)'].sum()"
   ]
  },
  {
   "cell_type": "code",
   "execution_count": 32,
   "metadata": {},
   "outputs": [
    {
     "name": "stdout",
     "output_type": "stream",
     "text": [
      "<class 'pandas.core.frame.DataFrame'>\n",
      "Int64Index: 81754 entries, 0 to 100822\n",
      "Data columns (total 26 columns):\n",
      " #   Column              Non-Null Count  Dtype  \n",
      "---  ------              --------------  -----  \n",
      " 0   movieId             81754 non-null  int64  \n",
      " 1   title               81754 non-null  object \n",
      " 2   genres              81754 non-null  object \n",
      " 3   userId              81754 non-null  int64  \n",
      " 4   rating              81754 non-null  float64\n",
      " 5   timestamp           81754 non-null  int64  \n",
      " 6   Animation           81754 non-null  float64\n",
      " 7   Children            81754 non-null  float64\n",
      " 8   Fantasy             81754 non-null  float64\n",
      " 9   Adventure           81754 non-null  float64\n",
      " 10  Comedy              81754 non-null  float64\n",
      " 11  Romance             81754 non-null  float64\n",
      " 12  Drama               81754 non-null  float64\n",
      " 13  Crime               81754 non-null  float64\n",
      " 14  Thriller            81754 non-null  float64\n",
      " 15  Action              81754 non-null  float64\n",
      " 16  Horror              81754 non-null  float64\n",
      " 17  Mystery             81754 non-null  float64\n",
      " 18  Sci-Fi              81754 non-null  float64\n",
      " 19  War                 81754 non-null  float64\n",
      " 20  Musical             81754 non-null  float64\n",
      " 21  Documentary         81754 non-null  float64\n",
      " 22  IMAX                81754 non-null  float64\n",
      " 23  Western             81754 non-null  float64\n",
      " 24  Film-Noir           81754 non-null  float64\n",
      " 25  (no genres listed)  81754 non-null  float64\n",
      "dtypes: float64(21), int64(3), object(2)\n",
      "memory usage: 16.8+ MB\n"
     ]
    }
   ],
   "source": [
    "df_clean.info()"
   ]
  },
  {
   "cell_type": "code",
   "execution_count": 33,
   "metadata": {},
   "outputs": [],
   "source": [
    "# Extract the release year from the 'title' column into a new 'year' column.\n",
    "import re\n",
    "\n",
    "def extract_year(title):\n",
    "    match = re.search('\\((\\d{4})\\)', title)\n",
    "    if match:\n",
    "        return match.group(1)\n",
    "    else:\n",
    "        return None\n",
    "\n",
    "df_clean['year'] = df_clean['title'].apply(extract_year)"
   ]
  },
  {
   "cell_type": "code",
   "execution_count": 34,
   "metadata": {},
   "outputs": [
    {
     "data": {
      "text/plain": [
       "14"
      ]
     },
     "execution_count": 34,
     "metadata": {},
     "output_type": "execute_result"
    }
   ],
   "source": [
    "# Checking for missing year values.\n",
    "df_clean['year'].isna().sum()\n"
   ]
  },
  {
   "cell_type": "code",
   "execution_count": 35,
   "metadata": {},
   "outputs": [
    {
     "data": {
      "text/plain": [
       "0"
      ]
     },
     "execution_count": 35,
     "metadata": {},
     "output_type": "execute_result"
    }
   ],
   "source": [
    "# Dropping missing values.\n",
    "df_clean.dropna(subset=['year'], inplace=True)\n",
    "df_clean['year'].isna().sum()\n"
   ]
  },
  {
   "cell_type": "code",
   "execution_count": 36,
   "metadata": {},
   "outputs": [],
   "source": [
    "df_clean['num_viewers'] = df_clean.groupby('movieId')['userId'].transform('count')\n"
   ]
  },
  {
   "cell_type": "code",
   "execution_count": 37,
   "metadata": {},
   "outputs": [
    {
     "data": {
      "text/html": [
       "<div>\n",
       "<style scoped>\n",
       "    .dataframe tbody tr th:only-of-type {\n",
       "        vertical-align: middle;\n",
       "    }\n",
       "\n",
       "    .dataframe tbody tr th {\n",
       "        vertical-align: top;\n",
       "    }\n",
       "\n",
       "    .dataframe thead th {\n",
       "        text-align: right;\n",
       "    }\n",
       "</style>\n",
       "<table border=\"1\" class=\"dataframe\">\n",
       "  <thead>\n",
       "    <tr style=\"text-align: right;\">\n",
       "      <th></th>\n",
       "      <th>movieId</th>\n",
       "      <th>title</th>\n",
       "      <th>genres</th>\n",
       "      <th>userId</th>\n",
       "      <th>rating</th>\n",
       "      <th>timestamp</th>\n",
       "      <th>Animation</th>\n",
       "      <th>Children</th>\n",
       "      <th>Fantasy</th>\n",
       "      <th>Adventure</th>\n",
       "      <th>...</th>\n",
       "      <th>Sci-Fi</th>\n",
       "      <th>War</th>\n",
       "      <th>Musical</th>\n",
       "      <th>Documentary</th>\n",
       "      <th>IMAX</th>\n",
       "      <th>Western</th>\n",
       "      <th>Film-Noir</th>\n",
       "      <th>(no genres listed)</th>\n",
       "      <th>year</th>\n",
       "      <th>num_viewers</th>\n",
       "    </tr>\n",
       "  </thead>\n",
       "  <tbody>\n",
       "    <tr>\n",
       "      <th>0</th>\n",
       "      <td>1</td>\n",
       "      <td>Toy Story (1995)</td>\n",
       "      <td>Adventure|Animation|Children|Comedy|Fantasy</td>\n",
       "      <td>1</td>\n",
       "      <td>4.0</td>\n",
       "      <td>964982703</td>\n",
       "      <td>1.0</td>\n",
       "      <td>1.0</td>\n",
       "      <td>1.0</td>\n",
       "      <td>1.0</td>\n",
       "      <td>...</td>\n",
       "      <td>0.0</td>\n",
       "      <td>0.0</td>\n",
       "      <td>0.0</td>\n",
       "      <td>0.0</td>\n",
       "      <td>0.0</td>\n",
       "      <td>0.0</td>\n",
       "      <td>0.0</td>\n",
       "      <td>0.0</td>\n",
       "      <td>1995</td>\n",
       "      <td>199</td>\n",
       "    </tr>\n",
       "    <tr>\n",
       "      <th>1</th>\n",
       "      <td>1</td>\n",
       "      <td>Toy Story (1995)</td>\n",
       "      <td>Adventure|Animation|Children|Comedy|Fantasy</td>\n",
       "      <td>5</td>\n",
       "      <td>4.0</td>\n",
       "      <td>847434962</td>\n",
       "      <td>1.0</td>\n",
       "      <td>1.0</td>\n",
       "      <td>1.0</td>\n",
       "      <td>1.0</td>\n",
       "      <td>...</td>\n",
       "      <td>0.0</td>\n",
       "      <td>0.0</td>\n",
       "      <td>0.0</td>\n",
       "      <td>0.0</td>\n",
       "      <td>0.0</td>\n",
       "      <td>0.0</td>\n",
       "      <td>0.0</td>\n",
       "      <td>0.0</td>\n",
       "      <td>1995</td>\n",
       "      <td>199</td>\n",
       "    </tr>\n",
       "  </tbody>\n",
       "</table>\n",
       "<p>2 rows × 28 columns</p>\n",
       "</div>"
      ],
      "text/plain": [
       "   movieId             title                                       genres  \\\n",
       "0        1  Toy Story (1995)  Adventure|Animation|Children|Comedy|Fantasy   \n",
       "1        1  Toy Story (1995)  Adventure|Animation|Children|Comedy|Fantasy   \n",
       "\n",
       "   userId  rating  timestamp  Animation  Children  Fantasy  Adventure  ...  \\\n",
       "0       1     4.0  964982703        1.0       1.0      1.0        1.0  ...   \n",
       "1       5     4.0  847434962        1.0       1.0      1.0        1.0  ...   \n",
       "\n",
       "   Sci-Fi  War  Musical  Documentary  IMAX  Western  Film-Noir  \\\n",
       "0     0.0  0.0      0.0          0.0   0.0      0.0        0.0   \n",
       "1     0.0  0.0      0.0          0.0   0.0      0.0        0.0   \n",
       "\n",
       "   (no genres listed)  year  num_viewers  \n",
       "0                 0.0  1995          199  \n",
       "1                 0.0  1995          199  \n",
       "\n",
       "[2 rows x 28 columns]"
      ]
     },
     "execution_count": 37,
     "metadata": {},
     "output_type": "execute_result"
    }
   ],
   "source": [
    "df_clean.head(2)"
   ]
  },
  {
   "cell_type": "code",
   "execution_count": 38,
   "metadata": {},
   "outputs": [
    {
     "name": "stdout",
     "output_type": "stream",
     "text": [
      "<class 'pandas.core.frame.DataFrame'>\n",
      "Int64Index: 81740 entries, 0 to 100822\n",
      "Data columns (total 28 columns):\n",
      " #   Column              Non-Null Count  Dtype  \n",
      "---  ------              --------------  -----  \n",
      " 0   movieId             81740 non-null  int64  \n",
      " 1   title               81740 non-null  object \n",
      " 2   genres              81740 non-null  object \n",
      " 3   userId              81740 non-null  int64  \n",
      " 4   rating              81740 non-null  float64\n",
      " 5   timestamp           81740 non-null  int64  \n",
      " 6   Animation           81740 non-null  float64\n",
      " 7   Children            81740 non-null  float64\n",
      " 8   Fantasy             81740 non-null  float64\n",
      " 9   Adventure           81740 non-null  float64\n",
      " 10  Comedy              81740 non-null  float64\n",
      " 11  Romance             81740 non-null  float64\n",
      " 12  Drama               81740 non-null  float64\n",
      " 13  Crime               81740 non-null  float64\n",
      " 14  Thriller            81740 non-null  float64\n",
      " 15  Action              81740 non-null  float64\n",
      " 16  Horror              81740 non-null  float64\n",
      " 17  Mystery             81740 non-null  float64\n",
      " 18  Sci-Fi              81740 non-null  float64\n",
      " 19  War                 81740 non-null  float64\n",
      " 20  Musical             81740 non-null  float64\n",
      " 21  Documentary         81740 non-null  float64\n",
      " 22  IMAX                81740 non-null  float64\n",
      " 23  Western             81740 non-null  float64\n",
      " 24  Film-Noir           81740 non-null  float64\n",
      " 25  (no genres listed)  81740 non-null  float64\n",
      " 26  year                81740 non-null  object \n",
      " 27  num_viewers         81740 non-null  int64  \n",
      "dtypes: float64(21), int64(4), object(3)\n",
      "memory usage: 18.1+ MB\n"
     ]
    }
   ],
   "source": [
    "df_clean.info()"
   ]
  },
  {
   "cell_type": "code",
   "execution_count": 39,
   "metadata": {},
   "outputs": [],
   "source": [
    "# Change year column to integer.\n",
    "df_clean['year'] = df_clean['year'].astype('int')\n"
   ]
  },
  {
   "cell_type": "code",
   "execution_count": 40,
   "metadata": {},
   "outputs": [
    {
     "name": "stdout",
     "output_type": "stream",
     "text": [
      "<class 'pandas.core.frame.DataFrame'>\n",
      "Int64Index: 81740 entries, 0 to 81739\n",
      "Data columns (total 29 columns):\n",
      " #   Column              Non-Null Count  Dtype  \n",
      "---  ------              --------------  -----  \n",
      " 0   movieId             81740 non-null  int64  \n",
      " 1   title               81740 non-null  object \n",
      " 2   genres              81740 non-null  object \n",
      " 3   userId              81740 non-null  int64  \n",
      " 4   rating              81740 non-null  float64\n",
      " 5   timestamp           81740 non-null  int64  \n",
      " 6   Animation           81740 non-null  float64\n",
      " 7   Children            81740 non-null  float64\n",
      " 8   Fantasy             81740 non-null  float64\n",
      " 9   Adventure           81740 non-null  float64\n",
      " 10  Comedy              81740 non-null  float64\n",
      " 11  Romance             81740 non-null  float64\n",
      " 12  Drama               81740 non-null  float64\n",
      " 13  Crime               81740 non-null  float64\n",
      " 14  Thriller            81740 non-null  float64\n",
      " 15  Action              81740 non-null  float64\n",
      " 16  Horror              81740 non-null  float64\n",
      " 17  Mystery             81740 non-null  float64\n",
      " 18  Sci-Fi              81740 non-null  float64\n",
      " 19  War                 81740 non-null  float64\n",
      " 20  Musical             81740 non-null  float64\n",
      " 21  Documentary         81740 non-null  float64\n",
      " 22  IMAX                81740 non-null  float64\n",
      " 23  Western             81740 non-null  float64\n",
      " 24  Film-Noir           81740 non-null  float64\n",
      " 25  (no genres listed)  81740 non-null  float64\n",
      " 26  year                81740 non-null  int32  \n",
      " 27  num_viewers         81740 non-null  int64  \n",
      " 28  Average Rating      81740 non-null  float64\n",
      "dtypes: float64(22), int32(1), int64(4), object(2)\n",
      "memory usage: 18.4+ MB\n"
     ]
    }
   ],
   "source": [
    "# Creating df_clean2 to have copy before dividing the years into decades.\n",
    "df_clean_col = df_clean.copy()\n",
    "df_clean2 = df_clean_col.merge(avg_high_rated, on='title')\n",
    "df_clean2.info()"
   ]
  },
  {
   "cell_type": "code",
   "execution_count": 41,
   "metadata": {},
   "outputs": [],
   "source": [
    "df_clean2 = df_clean2.drop(columns='timestamp', axis=1)"
   ]
  },
  {
   "cell_type": "code",
   "execution_count": 42,
   "metadata": {},
   "outputs": [
    {
     "name": "stdout",
     "output_type": "stream",
     "text": [
      "<class 'pandas.core.frame.DataFrame'>\n",
      "Int64Index: 8432 entries, 0 to 81739\n",
      "Data columns (total 28 columns):\n",
      " #   Column              Non-Null Count  Dtype  \n",
      "---  ------              --------------  -----  \n",
      " 0   movieId             8432 non-null   int64  \n",
      " 1   title               8432 non-null   object \n",
      " 2   genres              8432 non-null   object \n",
      " 3   userId              8432 non-null   int64  \n",
      " 4   rating              8432 non-null   float64\n",
      " 5   Animation           8432 non-null   float64\n",
      " 6   Children            8432 non-null   float64\n",
      " 7   Fantasy             8432 non-null   float64\n",
      " 8   Adventure           8432 non-null   float64\n",
      " 9   Comedy              8432 non-null   float64\n",
      " 10  Romance             8432 non-null   float64\n",
      " 11  Drama               8432 non-null   float64\n",
      " 12  Crime               8432 non-null   float64\n",
      " 13  Thriller            8432 non-null   float64\n",
      " 14  Action              8432 non-null   float64\n",
      " 15  Horror              8432 non-null   float64\n",
      " 16  Mystery             8432 non-null   float64\n",
      " 17  Sci-Fi              8432 non-null   float64\n",
      " 18  War                 8432 non-null   float64\n",
      " 19  Musical             8432 non-null   float64\n",
      " 20  Documentary         8432 non-null   float64\n",
      " 21  IMAX                8432 non-null   float64\n",
      " 22  Western             8432 non-null   float64\n",
      " 23  Film-Noir           8432 non-null   float64\n",
      " 24  (no genres listed)  8432 non-null   float64\n",
      " 25  year                8432 non-null   int32  \n",
      " 26  num_viewers         8432 non-null   int64  \n",
      " 27  Average Rating      8432 non-null   float64\n",
      "dtypes: float64(22), int32(1), int64(3), object(2)\n",
      "memory usage: 1.8+ MB\n"
     ]
    }
   ],
   "source": [
    "df_clean2 = df_clean2.drop_duplicates(subset='title', keep='first')\n",
    "df_clean2.info()\n"
   ]
  },
  {
   "cell_type": "code",
   "execution_count": 43,
   "metadata": {},
   "outputs": [],
   "source": [
    "df_clean2['genres'] = df_clean2['genres'].str.replace('|', ' ')\n"
   ]
  },
  {
   "cell_type": "code",
   "execution_count": 44,
   "metadata": {},
   "outputs": [],
   "source": [
    "# Creating columns for each decade span with a binary value for each movie.\n",
    "df_clean['1900s'] = ((df_clean['year'] >= 1900) & (df_clean['year'] < 1910)).astype(float)\n",
    "df_clean['1910s'] = ((df_clean['year'] >= 1910) & (df_clean['year'] < 1920)).astype(float)\n",
    "df_clean['1920s'] = ((df_clean['year'] >= 1920) & (df_clean['year'] < 1930)).astype(float)\n",
    "df_clean['1930s'] = ((df_clean['year'] >= 1930) & (df_clean['year'] < 1940)).astype(float)\n",
    "df_clean['1940s'] = ((df_clean['year'] >= 1940) & (df_clean['year'] < 1950)).astype(float)\n",
    "df_clean['1950s'] = ((df_clean['year'] >= 1950) & (df_clean['year'] < 1960)).astype(float)\n",
    "df_clean['1960s'] = ((df_clean['year'] >= 1960) & (df_clean['year'] < 1970)).astype(float)\n",
    "df_clean['1970s'] = ((df_clean['year'] >= 1970) & (df_clean['year'] < 1980)).astype(float)\n",
    "df_clean['1980s'] = ((df_clean['year'] >= 1980) & (df_clean['year'] < 1990)).astype(float)\n",
    "df_clean['1990s'] = ((df_clean['year'] >= 1990) & (df_clean['year'] < 2000)).astype(float)\n",
    "df_clean['2000s'] = ((df_clean['year'] >= 2000) & (df_clean['year'] < 2010)).astype(float)\n",
    "df_clean['2010s'] = ((df_clean['year'] >= 2010) & (df_clean['year'] < 2020)).astype(float)\n"
   ]
  },
  {
   "cell_type": "code",
   "execution_count": 45,
   "metadata": {},
   "outputs": [
    {
     "data": {
      "text/html": [
       "<div>\n",
       "<style scoped>\n",
       "    .dataframe tbody tr th:only-of-type {\n",
       "        vertical-align: middle;\n",
       "    }\n",
       "\n",
       "    .dataframe tbody tr th {\n",
       "        vertical-align: top;\n",
       "    }\n",
       "\n",
       "    .dataframe thead th {\n",
       "        text-align: right;\n",
       "    }\n",
       "</style>\n",
       "<table border=\"1\" class=\"dataframe\">\n",
       "  <thead>\n",
       "    <tr style=\"text-align: right;\">\n",
       "      <th></th>\n",
       "      <th>movieId</th>\n",
       "      <th>title</th>\n",
       "      <th>genres</th>\n",
       "      <th>userId</th>\n",
       "      <th>rating</th>\n",
       "      <th>timestamp</th>\n",
       "      <th>Animation</th>\n",
       "      <th>Children</th>\n",
       "      <th>Fantasy</th>\n",
       "      <th>Adventure</th>\n",
       "      <th>...</th>\n",
       "      <th>1920s</th>\n",
       "      <th>1930s</th>\n",
       "      <th>1940s</th>\n",
       "      <th>1950s</th>\n",
       "      <th>1960s</th>\n",
       "      <th>1970s</th>\n",
       "      <th>1980s</th>\n",
       "      <th>1990s</th>\n",
       "      <th>2000s</th>\n",
       "      <th>2010s</th>\n",
       "    </tr>\n",
       "  </thead>\n",
       "  <tbody>\n",
       "    <tr>\n",
       "      <th>0</th>\n",
       "      <td>1</td>\n",
       "      <td>Toy Story (1995)</td>\n",
       "      <td>Adventure|Animation|Children|Comedy|Fantasy</td>\n",
       "      <td>1</td>\n",
       "      <td>4.0</td>\n",
       "      <td>964982703</td>\n",
       "      <td>1.0</td>\n",
       "      <td>1.0</td>\n",
       "      <td>1.0</td>\n",
       "      <td>1.0</td>\n",
       "      <td>...</td>\n",
       "      <td>0.0</td>\n",
       "      <td>0.0</td>\n",
       "      <td>0.0</td>\n",
       "      <td>0.0</td>\n",
       "      <td>0.0</td>\n",
       "      <td>0.0</td>\n",
       "      <td>0.0</td>\n",
       "      <td>1.0</td>\n",
       "      <td>0.0</td>\n",
       "      <td>0.0</td>\n",
       "    </tr>\n",
       "    <tr>\n",
       "      <th>1</th>\n",
       "      <td>1</td>\n",
       "      <td>Toy Story (1995)</td>\n",
       "      <td>Adventure|Animation|Children|Comedy|Fantasy</td>\n",
       "      <td>5</td>\n",
       "      <td>4.0</td>\n",
       "      <td>847434962</td>\n",
       "      <td>1.0</td>\n",
       "      <td>1.0</td>\n",
       "      <td>1.0</td>\n",
       "      <td>1.0</td>\n",
       "      <td>...</td>\n",
       "      <td>0.0</td>\n",
       "      <td>0.0</td>\n",
       "      <td>0.0</td>\n",
       "      <td>0.0</td>\n",
       "      <td>0.0</td>\n",
       "      <td>0.0</td>\n",
       "      <td>0.0</td>\n",
       "      <td>1.0</td>\n",
       "      <td>0.0</td>\n",
       "      <td>0.0</td>\n",
       "    </tr>\n",
       "  </tbody>\n",
       "</table>\n",
       "<p>2 rows × 40 columns</p>\n",
       "</div>"
      ],
      "text/plain": [
       "   movieId             title                                       genres  \\\n",
       "0        1  Toy Story (1995)  Adventure|Animation|Children|Comedy|Fantasy   \n",
       "1        1  Toy Story (1995)  Adventure|Animation|Children|Comedy|Fantasy   \n",
       "\n",
       "   userId  rating  timestamp  Animation  Children  Fantasy  Adventure  ...  \\\n",
       "0       1     4.0  964982703        1.0       1.0      1.0        1.0  ...   \n",
       "1       5     4.0  847434962        1.0       1.0      1.0        1.0  ...   \n",
       "\n",
       "   1920s  1930s  1940s  1950s  1960s  1970s  1980s  1990s  2000s  2010s  \n",
       "0    0.0    0.0    0.0    0.0    0.0    0.0    0.0    1.0    0.0    0.0  \n",
       "1    0.0    0.0    0.0    0.0    0.0    0.0    0.0    1.0    0.0    0.0  \n",
       "\n",
       "[2 rows x 40 columns]"
      ]
     },
     "execution_count": 45,
     "metadata": {},
     "output_type": "execute_result"
    }
   ],
   "source": [
    "df_clean.head(2)"
   ]
  },
  {
   "cell_type": "code",
   "execution_count": 46,
   "metadata": {},
   "outputs": [
    {
     "name": "stdout",
     "output_type": "stream",
     "text": [
      "<class 'pandas.core.frame.DataFrame'>\n",
      "Int64Index: 81740 entries, 0 to 100822\n",
      "Data columns (total 40 columns):\n",
      " #   Column              Non-Null Count  Dtype  \n",
      "---  ------              --------------  -----  \n",
      " 0   movieId             81740 non-null  int64  \n",
      " 1   title               81740 non-null  object \n",
      " 2   genres              81740 non-null  object \n",
      " 3   userId              81740 non-null  int64  \n",
      " 4   rating              81740 non-null  float64\n",
      " 5   timestamp           81740 non-null  int64  \n",
      " 6   Animation           81740 non-null  float64\n",
      " 7   Children            81740 non-null  float64\n",
      " 8   Fantasy             81740 non-null  float64\n",
      " 9   Adventure           81740 non-null  float64\n",
      " 10  Comedy              81740 non-null  float64\n",
      " 11  Romance             81740 non-null  float64\n",
      " 12  Drama               81740 non-null  float64\n",
      " 13  Crime               81740 non-null  float64\n",
      " 14  Thriller            81740 non-null  float64\n",
      " 15  Action              81740 non-null  float64\n",
      " 16  Horror              81740 non-null  float64\n",
      " 17  Mystery             81740 non-null  float64\n",
      " 18  Sci-Fi              81740 non-null  float64\n",
      " 19  War                 81740 non-null  float64\n",
      " 20  Musical             81740 non-null  float64\n",
      " 21  Documentary         81740 non-null  float64\n",
      " 22  IMAX                81740 non-null  float64\n",
      " 23  Western             81740 non-null  float64\n",
      " 24  Film-Noir           81740 non-null  float64\n",
      " 25  (no genres listed)  81740 non-null  float64\n",
      " 26  year                81740 non-null  int32  \n",
      " 27  num_viewers         81740 non-null  int64  \n",
      " 28  1900s               81740 non-null  float64\n",
      " 29  1910s               81740 non-null  float64\n",
      " 30  1920s               81740 non-null  float64\n",
      " 31  1930s               81740 non-null  float64\n",
      " 32  1940s               81740 non-null  float64\n",
      " 33  1950s               81740 non-null  float64\n",
      " 34  1960s               81740 non-null  float64\n",
      " 35  1970s               81740 non-null  float64\n",
      " 36  1980s               81740 non-null  float64\n",
      " 37  1990s               81740 non-null  float64\n",
      " 38  2000s               81740 non-null  float64\n",
      " 39  2010s               81740 non-null  float64\n",
      "dtypes: float64(33), int32(1), int64(4), object(2)\n",
      "memory usage: 25.3+ MB\n"
     ]
    }
   ],
   "source": [
    "df_clean.info()\n"
   ]
  },
  {
   "cell_type": "code",
   "execution_count": 47,
   "metadata": {},
   "outputs": [],
   "source": [
    "#Dropping these two columns as they are not needed for further analysis\n",
    "df_clean.drop(columns=['(no genres listed)','timestamp'],inplace=True)\n"
   ]
  },
  {
   "cell_type": "code",
   "execution_count": null,
   "metadata": {},
   "outputs": [],
   "source": []
  }
 ],
 "metadata": {
  "kernelspec": {
   "display_name": "Python (learn-env)",
   "language": "python",
   "name": "learn-env"
  },
  "language_info": {
   "codemirror_mode": {
    "name": "ipython",
    "version": 3
   },
   "file_extension": ".py",
   "mimetype": "text/x-python",
   "name": "python",
   "nbconvert_exporter": "python",
   "pygments_lexer": "ipython3",
   "version": "3.8.5"
  }
 },
 "nbformat": 4,
 "nbformat_minor": 4
}
